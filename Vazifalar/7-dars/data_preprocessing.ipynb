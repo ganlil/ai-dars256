{
 "cells": [
  {
   "cell_type": "code",
   "execution_count": 1,
   "id": "aef43bca",
   "metadata": {},
   "outputs": [],
   "source": [
    "import pandas as pd"
   ]
  },
  {
   "cell_type": "code",
   "execution_count": 39,
   "id": "3c30da4d",
   "metadata": {},
   "outputs": [],
   "source": [
    "df=pd.read_csv('IMDB_Movies_Dataset.csv')"
   ]
  },
  {
   "cell_type": "code",
   "execution_count": 40,
   "id": "b4bff094",
   "metadata": {},
   "outputs": [
    {
     "name": "stdout",
     "output_type": "stream",
     "text": [
      "<class 'pandas.core.frame.DataFrame'>\n",
      "RangeIndex: 4991 entries, 0 to 4990\n",
      "Data columns (total 15 columns):\n",
      " #   Column             Non-Null Count  Dtype  \n",
      "---  ------             --------------  -----  \n",
      " 0   Unnamed: 0         4991 non-null   int64  \n",
      " 1   Title              4991 non-null   object \n",
      " 2   Average Rating     4991 non-null   float64\n",
      " 3   Director           4991 non-null   object \n",
      " 4   Writer             4990 non-null   object \n",
      " 5   Metascore          3057 non-null   float64\n",
      " 6   Cast               4984 non-null   object \n",
      " 7   Release Date       4991 non-null   object \n",
      " 8   Country of Origin  4988 non-null   object \n",
      " 9   Languages          4970 non-null   object \n",
      " 10  Budget             2653 non-null   object \n",
      " 11  Worldwide Gross    3897 non-null   object \n",
      " 12  Runtime            4991 non-null   object \n",
      " 13  Writer.1           4990 non-null   object \n",
      " 14  Average Rating.1   4991 non-null   float64\n",
      "dtypes: float64(3), int64(1), object(11)\n",
      "memory usage: 585.0+ KB\n"
     ]
    }
   ],
   "source": [
    "df.info()"
   ]
  },
  {
   "cell_type": "code",
   "execution_count": 5,
   "id": "103858f0",
   "metadata": {},
   "outputs": [
    {
     "data": {
      "text/html": [
       "<div>\n",
       "<style scoped>\n",
       "    .dataframe tbody tr th:only-of-type {\n",
       "        vertical-align: middle;\n",
       "    }\n",
       "\n",
       "    .dataframe tbody tr th {\n",
       "        vertical-align: top;\n",
       "    }\n",
       "\n",
       "    .dataframe thead th {\n",
       "        text-align: right;\n",
       "    }\n",
       "</style>\n",
       "<table border=\"1\" class=\"dataframe\">\n",
       "  <thead>\n",
       "    <tr style=\"text-align: right;\">\n",
       "      <th></th>\n",
       "      <th>Unnamed: 0</th>\n",
       "      <th>Title</th>\n",
       "      <th>Average Rating</th>\n",
       "      <th>Director</th>\n",
       "      <th>Writer</th>\n",
       "      <th>Metascore</th>\n",
       "      <th>Cast</th>\n",
       "      <th>Release Date</th>\n",
       "      <th>Country of Origin</th>\n",
       "      <th>Languages</th>\n",
       "      <th>Budget</th>\n",
       "      <th>Worldwide Gross</th>\n",
       "      <th>Runtime</th>\n",
       "      <th>Writer.1</th>\n",
       "    </tr>\n",
       "  </thead>\n",
       "  <tbody>\n",
       "    <tr>\n",
       "      <th>0</th>\n",
       "      <td>0</td>\n",
       "      <td>The Shawshank Redemption</td>\n",
       "      <td>9.3</td>\n",
       "      <td>Frank Darabont</td>\n",
       "      <td>Stephen King, Frank Darabont</td>\n",
       "      <td>82.0</td>\n",
       "      <td>Tim Robbins, Morgan Freeman, Bob Gunton, Willi...</td>\n",
       "      <td>October 14, 1994 (India)</td>\n",
       "      <td>United States</td>\n",
       "      <td>English</td>\n",
       "      <td>$25,000,000 (estimated)</td>\n",
       "      <td>$29,332,133</td>\n",
       "      <td>2 hours 22 minutes</td>\n",
       "      <td>Stephen King, Frank Darabont</td>\n",
       "    </tr>\n",
       "  </tbody>\n",
       "</table>\n",
       "</div>"
      ],
      "text/plain": [
       "   Unnamed: 0                     Title  Average Rating        Director  \\\n",
       "0           0  The Shawshank Redemption             9.3  Frank Darabont   \n",
       "\n",
       "                         Writer  Metascore  \\\n",
       "0  Stephen King, Frank Darabont       82.0   \n",
       "\n",
       "                                                Cast  \\\n",
       "0  Tim Robbins, Morgan Freeman, Bob Gunton, Willi...   \n",
       "\n",
       "               Release Date Country of Origin Languages  \\\n",
       "0  October 14, 1994 (India)     United States   English   \n",
       "\n",
       "                    Budget Worldwide Gross             Runtime  \\\n",
       "0  $25,000,000 (estimated)     $29,332,133  2 hours 22 minutes   \n",
       "\n",
       "                       Writer.1  \n",
       "0  Stephen King, Frank Darabont  "
      ]
     },
     "execution_count": 5,
     "metadata": {},
     "output_type": "execute_result"
    }
   ],
   "source": [
    "df.head(1)"
   ]
  },
  {
   "cell_type": "code",
   "execution_count": 9,
   "id": "f18e4927",
   "metadata": {},
   "outputs": [
    {
     "data": {
      "text/plain": [
       "Budget\n",
       "$15,000,000 (estimated)       63\n",
       "$2,000,000 (estimated)        51\n",
       "$25,000,000 (estimated)       50\n",
       "$3,000,000 (estimated)        50\n",
       "$30,000,000 (estimated)       50\n",
       "                              ..\n",
       "$5,900,000 (estimated)         1\n",
       "£153,756 (estimated)           1\n",
       "$1,135,654 (estimated)         1\n",
       "DEM 680,000 (estimated)        1\n",
       "THB 65,000,000 (estimated)     1\n",
       "Name: count, Length: 882, dtype: int64"
      ]
     },
     "execution_count": 9,
     "metadata": {},
     "output_type": "execute_result"
    }
   ],
   "source": [
    "df['Budget'].value_counts()"
   ]
  },
  {
   "cell_type": "code",
   "execution_count": 10,
   "id": "abcd8083",
   "metadata": {},
   "outputs": [
    {
     "data": {
      "text/plain": [
       "0       $25,000,000 (estimated)\n",
       "1                           NaN\n",
       "2        $6,000,000 (estimated)\n",
       "3                           NaN\n",
       "4                           NaN\n",
       "                 ...           \n",
       "4985                        NaN\n",
       "4986                        NaN\n",
       "4987     €7,000,000 (estimated)\n",
       "4988                        NaN\n",
       "4989    $25,000,000 (estimated)\n",
       "Name: Budget, Length: 4990, dtype: object"
      ]
     },
     "execution_count": 10,
     "metadata": {},
     "output_type": "execute_result"
    }
   ],
   "source": [
    "df['Budget']"
   ]
  },
  {
   "cell_type": "markdown",
   "id": "2e175300",
   "metadata": {},
   "source": [
    "# Tozalash"
   ]
  },
  {
   "cell_type": "code",
   "execution_count": 11,
   "id": "23e262a4",
   "metadata": {},
   "outputs": [],
   "source": [
    "df['Budget']=df['Budget'].str.replace(r'[^\\d.]','', regex=True).astype(float)"
   ]
  },
  {
   "cell_type": "code",
   "execution_count": 41,
   "id": "f80d3b26",
   "metadata": {},
   "outputs": [
    {
     "data": {
      "text/plain": [
       "0       $25,000,000 (estimated)\n",
       "1                           NaN\n",
       "2        $6,000,000 (estimated)\n",
       "3                           NaN\n",
       "4                           NaN\n",
       "                 ...           \n",
       "4986                        NaN\n",
       "4987     €7,000,000 (estimated)\n",
       "4988                        NaN\n",
       "4989    $25,000,000 (estimated)\n",
       "4990    $25,000,000 (estimated)\n",
       "Name: Budget, Length: 4991, dtype: object"
      ]
     },
     "execution_count": 41,
     "metadata": {},
     "output_type": "execute_result"
    }
   ],
   "source": [
    "df['Budget']"
   ]
  },
  {
   "cell_type": "code",
   "execution_count": 42,
   "id": "3b943040",
   "metadata": {},
   "outputs": [
    {
     "name": "stdout",
     "output_type": "stream",
     "text": [
      "<class 'pandas.core.frame.DataFrame'>\n",
      "RangeIndex: 4991 entries, 0 to 4990\n",
      "Data columns (total 15 columns):\n",
      " #   Column             Non-Null Count  Dtype  \n",
      "---  ------             --------------  -----  \n",
      " 0   Unnamed: 0         4991 non-null   int64  \n",
      " 1   Title              4991 non-null   object \n",
      " 2   Average Rating     4991 non-null   float64\n",
      " 3   Director           4991 non-null   object \n",
      " 4   Writer             4990 non-null   object \n",
      " 5   Metascore          3057 non-null   float64\n",
      " 6   Cast               4984 non-null   object \n",
      " 7   Release Date       4991 non-null   object \n",
      " 8   Country of Origin  4988 non-null   object \n",
      " 9   Languages          4970 non-null   object \n",
      " 10  Budget             2653 non-null   object \n",
      " 11  Worldwide Gross    3897 non-null   object \n",
      " 12  Runtime            4991 non-null   object \n",
      " 13  Writer.1           4990 non-null   object \n",
      " 14  Average Rating.1   4991 non-null   float64\n",
      "dtypes: float64(3), int64(1), object(11)\n",
      "memory usage: 585.0+ KB\n"
     ]
    }
   ],
   "source": [
    "df.info()"
   ]
  },
  {
   "cell_type": "code",
   "execution_count": 18,
   "id": "aa763605",
   "metadata": {},
   "outputs": [],
   "source": [
    "df['Worldwide Gross']=df['Worldwide Gross'].str.replace(r'[^\\d.]','', regex=True).astype(float)"
   ]
  },
  {
   "cell_type": "code",
   "execution_count": 51,
   "id": "c280530c",
   "metadata": {},
   "outputs": [
    {
     "ename": "AttributeError",
     "evalue": "Can only use .str accessor with string values!",
     "output_type": "error",
     "traceback": [
      "\u001b[1;31m---------------------------------------------------------------------------\u001b[0m",
      "\u001b[1;31mAttributeError\u001b[0m                            Traceback (most recent call last)",
      "Cell \u001b[1;32mIn[51], line 1\u001b[0m\n\u001b[1;32m----> 1\u001b[0m df[\u001b[38;5;124m'\u001b[39m\u001b[38;5;124mWorldwide Gross\u001b[39m\u001b[38;5;124m'\u001b[39m]\u001b[38;5;241m=\u001b[39mdf[\u001b[38;5;124m'\u001b[39m\u001b[38;5;124mWorldwide Gross\u001b[39m\u001b[38;5;124m'\u001b[39m]\u001b[38;5;241m.\u001b[39mstr\u001b[38;5;241m.\u001b[39mreplace(\u001b[38;5;124mr\u001b[39m\u001b[38;5;124m'\u001b[39m\u001b[38;5;124m[^\u001b[39m\u001b[38;5;124m\\\u001b[39m\u001b[38;5;124md.]\u001b[39m\u001b[38;5;124m'\u001b[39m,\u001b[38;5;124m'\u001b[39m\u001b[38;5;124m1\u001b[39m\u001b[38;5;124m'\u001b[39m, regex\u001b[38;5;241m=\u001b[39m\u001b[38;5;28;01mTrue\u001b[39;00m)\u001b[38;5;241m.\u001b[39mastype(\u001b[38;5;28mfloat\u001b[39m)\n",
      "File \u001b[1;32mc:\\Users\\davro\\anaconda3\\Lib\\site-packages\\pandas\\core\\generic.py:6204\u001b[0m, in \u001b[0;36mNDFrame.__getattr__\u001b[1;34m(self, name)\u001b[0m\n\u001b[0;32m   6197\u001b[0m \u001b[38;5;28;01mif\u001b[39;00m (\n\u001b[0;32m   6198\u001b[0m     name \u001b[38;5;129;01mnot\u001b[39;00m \u001b[38;5;129;01min\u001b[39;00m \u001b[38;5;28mself\u001b[39m\u001b[38;5;241m.\u001b[39m_internal_names_set\n\u001b[0;32m   6199\u001b[0m     \u001b[38;5;129;01mand\u001b[39;00m name \u001b[38;5;129;01mnot\u001b[39;00m \u001b[38;5;129;01min\u001b[39;00m \u001b[38;5;28mself\u001b[39m\u001b[38;5;241m.\u001b[39m_metadata\n\u001b[0;32m   6200\u001b[0m     \u001b[38;5;129;01mand\u001b[39;00m name \u001b[38;5;129;01mnot\u001b[39;00m \u001b[38;5;129;01min\u001b[39;00m \u001b[38;5;28mself\u001b[39m\u001b[38;5;241m.\u001b[39m_accessors\n\u001b[0;32m   6201\u001b[0m     \u001b[38;5;129;01mand\u001b[39;00m \u001b[38;5;28mself\u001b[39m\u001b[38;5;241m.\u001b[39m_info_axis\u001b[38;5;241m.\u001b[39m_can_hold_identifiers_and_holds_name(name)\n\u001b[0;32m   6202\u001b[0m ):\n\u001b[0;32m   6203\u001b[0m     \u001b[38;5;28;01mreturn\u001b[39;00m \u001b[38;5;28mself\u001b[39m[name]\n\u001b[1;32m-> 6204\u001b[0m \u001b[38;5;28;01mreturn\u001b[39;00m \u001b[38;5;28mobject\u001b[39m\u001b[38;5;241m.\u001b[39m\u001b[38;5;21m__getattribute__\u001b[39m(\u001b[38;5;28mself\u001b[39m, name)\n",
      "File \u001b[1;32mc:\\Users\\davro\\anaconda3\\Lib\\site-packages\\pandas\\core\\accessor.py:224\u001b[0m, in \u001b[0;36mCachedAccessor.__get__\u001b[1;34m(self, obj, cls)\u001b[0m\n\u001b[0;32m    221\u001b[0m \u001b[38;5;28;01mif\u001b[39;00m obj \u001b[38;5;129;01mis\u001b[39;00m \u001b[38;5;28;01mNone\u001b[39;00m:\n\u001b[0;32m    222\u001b[0m     \u001b[38;5;66;03m# we're accessing the attribute of the class, i.e., Dataset.geo\u001b[39;00m\n\u001b[0;32m    223\u001b[0m     \u001b[38;5;28;01mreturn\u001b[39;00m \u001b[38;5;28mself\u001b[39m\u001b[38;5;241m.\u001b[39m_accessor\n\u001b[1;32m--> 224\u001b[0m accessor_obj \u001b[38;5;241m=\u001b[39m \u001b[38;5;28mself\u001b[39m\u001b[38;5;241m.\u001b[39m_accessor(obj)\n\u001b[0;32m    225\u001b[0m \u001b[38;5;66;03m# Replace the property with the accessor object. Inspired by:\u001b[39;00m\n\u001b[0;32m    226\u001b[0m \u001b[38;5;66;03m# https://www.pydanny.com/cached-property.html\u001b[39;00m\n\u001b[0;32m    227\u001b[0m \u001b[38;5;66;03m# We need to use object.__setattr__ because we overwrite __setattr__ on\u001b[39;00m\n\u001b[0;32m    228\u001b[0m \u001b[38;5;66;03m# NDFrame\u001b[39;00m\n\u001b[0;32m    229\u001b[0m \u001b[38;5;28mobject\u001b[39m\u001b[38;5;241m.\u001b[39m\u001b[38;5;21m__setattr__\u001b[39m(obj, \u001b[38;5;28mself\u001b[39m\u001b[38;5;241m.\u001b[39m_name, accessor_obj)\n",
      "File \u001b[1;32mc:\\Users\\davro\\anaconda3\\Lib\\site-packages\\pandas\\core\\strings\\accessor.py:190\u001b[0m, in \u001b[0;36mStringMethods.__init__\u001b[1;34m(self, data)\u001b[0m\n\u001b[0;32m    187\u001b[0m \u001b[38;5;28;01mdef\u001b[39;00m \u001b[38;5;21m__init__\u001b[39m(\u001b[38;5;28mself\u001b[39m, data) \u001b[38;5;241m-\u001b[39m\u001b[38;5;241m>\u001b[39m \u001b[38;5;28;01mNone\u001b[39;00m:\n\u001b[0;32m    188\u001b[0m     \u001b[38;5;28;01mfrom\u001b[39;00m \u001b[38;5;21;01mpandas\u001b[39;00m\u001b[38;5;21;01m.\u001b[39;00m\u001b[38;5;21;01mcore\u001b[39;00m\u001b[38;5;21;01m.\u001b[39;00m\u001b[38;5;21;01marrays\u001b[39;00m\u001b[38;5;21;01m.\u001b[39;00m\u001b[38;5;21;01mstring_\u001b[39;00m \u001b[38;5;28;01mimport\u001b[39;00m StringDtype\n\u001b[1;32m--> 190\u001b[0m     \u001b[38;5;28mself\u001b[39m\u001b[38;5;241m.\u001b[39m_inferred_dtype \u001b[38;5;241m=\u001b[39m \u001b[38;5;28mself\u001b[39m\u001b[38;5;241m.\u001b[39m_validate(data)\n\u001b[0;32m    191\u001b[0m     \u001b[38;5;28mself\u001b[39m\u001b[38;5;241m.\u001b[39m_is_categorical \u001b[38;5;241m=\u001b[39m \u001b[38;5;28misinstance\u001b[39m(data\u001b[38;5;241m.\u001b[39mdtype, CategoricalDtype)\n\u001b[0;32m    192\u001b[0m     \u001b[38;5;28mself\u001b[39m\u001b[38;5;241m.\u001b[39m_is_string \u001b[38;5;241m=\u001b[39m \u001b[38;5;28misinstance\u001b[39m(data\u001b[38;5;241m.\u001b[39mdtype, StringDtype)\n",
      "File \u001b[1;32mc:\\Users\\davro\\anaconda3\\Lib\\site-packages\\pandas\\core\\strings\\accessor.py:244\u001b[0m, in \u001b[0;36mStringMethods._validate\u001b[1;34m(data)\u001b[0m\n\u001b[0;32m    241\u001b[0m inferred_dtype \u001b[38;5;241m=\u001b[39m lib\u001b[38;5;241m.\u001b[39minfer_dtype(values, skipna\u001b[38;5;241m=\u001b[39m\u001b[38;5;28;01mTrue\u001b[39;00m)\n\u001b[0;32m    243\u001b[0m \u001b[38;5;28;01mif\u001b[39;00m inferred_dtype \u001b[38;5;129;01mnot\u001b[39;00m \u001b[38;5;129;01min\u001b[39;00m allowed_types:\n\u001b[1;32m--> 244\u001b[0m     \u001b[38;5;28;01mraise\u001b[39;00m \u001b[38;5;167;01mAttributeError\u001b[39;00m(\u001b[38;5;124m\"\u001b[39m\u001b[38;5;124mCan only use .str accessor with string values!\u001b[39m\u001b[38;5;124m\"\u001b[39m)\n\u001b[0;32m    245\u001b[0m \u001b[38;5;28;01mreturn\u001b[39;00m inferred_dtype\n",
      "\u001b[1;31mAttributeError\u001b[0m: Can only use .str accessor with string values!"
     ]
    }
   ],
   "source": [
    "df['Worldwide Gross']=df['Worldwide Gross'].str.replace(r'[^\\d.]','1', regex=True).astype(float)"
   ]
  },
  {
   "cell_type": "code",
   "execution_count": 48,
   "id": "108040a0",
   "metadata": {},
   "outputs": [
    {
     "data": {
      "text/plain": [
       "0       1.291332e+10\n",
       "1       1.315132e+09\n",
       "2       1.250134e+11\n",
       "3                NaN\n",
       "4                NaN\n",
       "            ...     \n",
       "4986    1.291893e+10\n",
       "4987    1.171871e+10\n",
       "4988    1.550103e+07\n",
       "4989    1.291332e+10\n",
       "4990    1.291332e+10\n",
       "Name: Worldwide Gross, Length: 4991, dtype: float64"
      ]
     },
     "execution_count": 48,
     "metadata": {},
     "output_type": "execute_result"
    }
   ],
   "source": [
    "df['Worldwide Gross']"
   ]
  },
  {
   "cell_type": "code",
   "execution_count": 19,
   "id": "f06bf57b",
   "metadata": {},
   "outputs": [
    {
     "name": "stdout",
     "output_type": "stream",
     "text": [
      "<class 'pandas.core.frame.DataFrame'>\n",
      "RangeIndex: 4990 entries, 0 to 4989\n",
      "Data columns (total 14 columns):\n",
      " #   Column             Non-Null Count  Dtype  \n",
      "---  ------             --------------  -----  \n",
      " 0   Unnamed: 0         4990 non-null   int64  \n",
      " 1   Title              4990 non-null   object \n",
      " 2   Average Rating     4990 non-null   float64\n",
      " 3   Director           4990 non-null   object \n",
      " 4   Writer             4989 non-null   object \n",
      " 5   Metascore          3056 non-null   float64\n",
      " 6   Cast               4983 non-null   object \n",
      " 7   Release Date       4990 non-null   object \n",
      " 8   Country of Origin  4987 non-null   object \n",
      " 9   Languages          4969 non-null   object \n",
      " 10  Budget             2652 non-null   object \n",
      " 11  Worldwide Gross    3896 non-null   float64\n",
      " 12  Runtime            4990 non-null   object \n",
      " 13  Writer.1           4989 non-null   object \n",
      "dtypes: float64(3), int64(1), object(10)\n",
      "memory usage: 545.9+ KB\n"
     ]
    }
   ],
   "source": [
    "df.info()"
   ]
  },
  {
   "cell_type": "markdown",
   "id": "ac85338b",
   "metadata": {},
   "source": [
    "# Duplicated"
   ]
  },
  {
   "cell_type": "code",
   "execution_count": 25,
   "id": "16ad439b",
   "metadata": {},
   "outputs": [
    {
     "name": "stdout",
     "output_type": "stream",
     "text": [
      "<class 'pandas.core.frame.DataFrame'>\n",
      "RangeIndex: 4991 entries, 0 to 4990\n",
      "Data columns (total 15 columns):\n",
      " #   Column             Non-Null Count  Dtype  \n",
      "---  ------             --------------  -----  \n",
      " 0   Unnamed: 0         4991 non-null   int64  \n",
      " 1   Title              4991 non-null   object \n",
      " 2   Average Rating     4991 non-null   float64\n",
      " 3   Director           4991 non-null   object \n",
      " 4   Writer             4990 non-null   object \n",
      " 5   Metascore          3057 non-null   float64\n",
      " 6   Cast               4984 non-null   object \n",
      " 7   Release Date       4991 non-null   object \n",
      " 8   Country of Origin  4988 non-null   object \n",
      " 9   Languages          4970 non-null   object \n",
      " 10  Budget             2653 non-null   object \n",
      " 11  Worldwide Gross    3897 non-null   object \n",
      " 12  Runtime            4991 non-null   object \n",
      " 13  Writer.1           4990 non-null   object \n",
      " 14  Average Rating.1   4991 non-null   float64\n",
      "dtypes: float64(3), int64(1), object(11)\n",
      "memory usage: 585.0+ KB\n"
     ]
    }
   ],
   "source": [
    "df.info()"
   ]
  },
  {
   "cell_type": "code",
   "execution_count": 26,
   "id": "c380961d",
   "metadata": {},
   "outputs": [
    {
     "data": {
      "text/plain": [
       "0       False\n",
       "1       False\n",
       "2       False\n",
       "3       False\n",
       "4       False\n",
       "        ...  \n",
       "4986    False\n",
       "4987    False\n",
       "4988    False\n",
       "4989     True\n",
       "4990     True\n",
       "Length: 4991, dtype: bool"
      ]
     },
     "execution_count": 26,
     "metadata": {},
     "output_type": "execute_result"
    }
   ],
   "source": [
    "# Qator boyicha duplicated elementlarni aniqlang\n",
    "df.duplicated()"
   ]
  },
  {
   "cell_type": "code",
   "execution_count": null,
   "id": "25fd4c49",
   "metadata": {},
   "outputs": [
    {
     "data": {
      "text/plain": [
       "2"
      ]
     },
     "execution_count": 27,
     "metadata": {},
     "output_type": "execute_result"
    }
   ],
   "source": [
    "df.duplicated().sum()    # Aynan duplicated bolgan qatorlarni  umumiy sonini aniqlash"
   ]
  },
  {
   "cell_type": "code",
   "execution_count": null,
   "id": "ac9fde9e",
   "metadata": {},
   "outputs": [
    {
     "data": {
      "text/html": [
       "<div>\n",
       "<style scoped>\n",
       "    .dataframe tbody tr th:only-of-type {\n",
       "        vertical-align: middle;\n",
       "    }\n",
       "\n",
       "    .dataframe tbody tr th {\n",
       "        vertical-align: top;\n",
       "    }\n",
       "\n",
       "    .dataframe thead th {\n",
       "        text-align: right;\n",
       "    }\n",
       "</style>\n",
       "<table border=\"1\" class=\"dataframe\">\n",
       "  <thead>\n",
       "    <tr style=\"text-align: right;\">\n",
       "      <th></th>\n",
       "      <th>Unnamed: 0</th>\n",
       "      <th>Title</th>\n",
       "      <th>Average Rating</th>\n",
       "      <th>Director</th>\n",
       "      <th>Writer</th>\n",
       "      <th>Metascore</th>\n",
       "      <th>Cast</th>\n",
       "      <th>Release Date</th>\n",
       "      <th>Country of Origin</th>\n",
       "      <th>Languages</th>\n",
       "      <th>Budget</th>\n",
       "      <th>Worldwide Gross</th>\n",
       "      <th>Runtime</th>\n",
       "      <th>Writer.1</th>\n",
       "      <th>Average Rating.1</th>\n",
       "    </tr>\n",
       "  </thead>\n",
       "  <tbody>\n",
       "    <tr>\n",
       "      <th>4989</th>\n",
       "      <td>0</td>\n",
       "      <td>The Shawshank Redemption</td>\n",
       "      <td>9.3</td>\n",
       "      <td>Frank Darabont</td>\n",
       "      <td>Stephen King, Frank Darabont</td>\n",
       "      <td>82.0</td>\n",
       "      <td>Tim Robbins, Morgan Freeman, Bob Gunton, Willi...</td>\n",
       "      <td>October 14, 1994 (India)</td>\n",
       "      <td>United States</td>\n",
       "      <td>English</td>\n",
       "      <td>$25,000,000 (estimated)</td>\n",
       "      <td>$29,332,133</td>\n",
       "      <td>2 hours 22 minutes</td>\n",
       "      <td>Stephen King, Frank Darabont</td>\n",
       "      <td>9.3</td>\n",
       "    </tr>\n",
       "    <tr>\n",
       "      <th>4990</th>\n",
       "      <td>0</td>\n",
       "      <td>The Shawshank Redemption</td>\n",
       "      <td>9.3</td>\n",
       "      <td>Frank Darabont</td>\n",
       "      <td>Stephen King, Frank Darabont</td>\n",
       "      <td>82.0</td>\n",
       "      <td>Tim Robbins, Morgan Freeman, Bob Gunton, Willi...</td>\n",
       "      <td>October 14, 1994 (India)</td>\n",
       "      <td>United States</td>\n",
       "      <td>English</td>\n",
       "      <td>$25,000,000 (estimated)</td>\n",
       "      <td>$29,332,133</td>\n",
       "      <td>2 hours 22 minutes</td>\n",
       "      <td>Stephen King, Frank Darabont</td>\n",
       "      <td>9.3</td>\n",
       "    </tr>\n",
       "  </tbody>\n",
       "</table>\n",
       "</div>"
      ],
      "text/plain": [
       "      Unnamed: 0                     Title  Average Rating        Director  \\\n",
       "4989           0  The Shawshank Redemption             9.3  Frank Darabont   \n",
       "4990           0  The Shawshank Redemption             9.3  Frank Darabont   \n",
       "\n",
       "                            Writer  Metascore  \\\n",
       "4989  Stephen King, Frank Darabont       82.0   \n",
       "4990  Stephen King, Frank Darabont       82.0   \n",
       "\n",
       "                                                   Cast  \\\n",
       "4989  Tim Robbins, Morgan Freeman, Bob Gunton, Willi...   \n",
       "4990  Tim Robbins, Morgan Freeman, Bob Gunton, Willi...   \n",
       "\n",
       "                  Release Date Country of Origin Languages  \\\n",
       "4989  October 14, 1994 (India)     United States   English   \n",
       "4990  October 14, 1994 (India)     United States   English   \n",
       "\n",
       "                       Budget Worldwide Gross             Runtime  \\\n",
       "4989  $25,000,000 (estimated)     $29,332,133  2 hours 22 minutes   \n",
       "4990  $25,000,000 (estimated)     $29,332,133  2 hours 22 minutes   \n",
       "\n",
       "                          Writer.1  Average Rating.1  \n",
       "4989  Stephen King, Frank Darabont               9.3  \n",
       "4990  Stephen King, Frank Darabont               9.3  "
      ]
     },
     "execution_count": 28,
     "metadata": {},
     "output_type": "execute_result"
    }
   ],
   "source": [
    "df[df.duplicated()]   # Aynan duplicated bolgan qatorlarni aniqlash"
   ]
  },
  {
   "cell_type": "code",
   "execution_count": 29,
   "id": "884fe820",
   "metadata": {},
   "outputs": [],
   "source": [
    "df=df.drop_duplicates()"
   ]
  },
  {
   "cell_type": "code",
   "execution_count": null,
   "id": "32350293",
   "metadata": {},
   "outputs": [
    {
     "data": {
      "text/plain": [
       "0       False\n",
       "1       False\n",
       "2       False\n",
       "3       False\n",
       "4       False\n",
       "        ...  \n",
       "4984    False\n",
       "4985    False\n",
       "4986    False\n",
       "4987    False\n",
       "4988    False\n",
       "Length: 4989, dtype: bool"
      ]
     },
     "execution_count": 30,
     "metadata": {},
     "output_type": "execute_result"
    }
   ],
   "source": [
    "df.duplicated()\n"
   ]
  },
  {
   "cell_type": "code",
   "execution_count": 31,
   "id": "72a21e67",
   "metadata": {},
   "outputs": [
    {
     "data": {
      "text/plain": [
       "0"
      ]
     },
     "execution_count": 31,
     "metadata": {},
     "output_type": "execute_result"
    }
   ],
   "source": [
    "df.duplicated().sum() "
   ]
  },
  {
   "cell_type": "code",
   "execution_count": 32,
   "id": "499c1c5c",
   "metadata": {},
   "outputs": [
    {
     "data": {
      "text/html": [
       "<div>\n",
       "<style scoped>\n",
       "    .dataframe tbody tr th:only-of-type {\n",
       "        vertical-align: middle;\n",
       "    }\n",
       "\n",
       "    .dataframe tbody tr th {\n",
       "        vertical-align: top;\n",
       "    }\n",
       "\n",
       "    .dataframe thead th {\n",
       "        text-align: right;\n",
       "    }\n",
       "</style>\n",
       "<table border=\"1\" class=\"dataframe\">\n",
       "  <thead>\n",
       "    <tr style=\"text-align: right;\">\n",
       "      <th></th>\n",
       "      <th>Unnamed: 0</th>\n",
       "      <th>Title</th>\n",
       "      <th>Average Rating</th>\n",
       "      <th>Director</th>\n",
       "      <th>Writer</th>\n",
       "      <th>Metascore</th>\n",
       "      <th>Cast</th>\n",
       "      <th>Release Date</th>\n",
       "      <th>Country of Origin</th>\n",
       "      <th>Languages</th>\n",
       "      <th>Budget</th>\n",
       "      <th>Worldwide Gross</th>\n",
       "      <th>Runtime</th>\n",
       "      <th>Writer.1</th>\n",
       "      <th>Average Rating.1</th>\n",
       "    </tr>\n",
       "  </thead>\n",
       "  <tbody>\n",
       "  </tbody>\n",
       "</table>\n",
       "</div>"
      ],
      "text/plain": [
       "Empty DataFrame\n",
       "Columns: [Unnamed: 0, Title, Average Rating, Director, Writer, Metascore, Cast, Release Date, Country of Origin, Languages, Budget, Worldwide Gross, Runtime, Writer.1, Average Rating.1]\n",
       "Index: []"
      ]
     },
     "execution_count": 32,
     "metadata": {},
     "output_type": "execute_result"
    }
   ],
   "source": [
    "df[df.duplicated()] "
   ]
  },
  {
   "cell_type": "code",
   "execution_count": 33,
   "id": "c8d530f5",
   "metadata": {},
   "outputs": [
    {
     "name": "stdout",
     "output_type": "stream",
     "text": [
      "<class 'pandas.core.frame.DataFrame'>\n",
      "Index: 4989 entries, 0 to 4988\n",
      "Data columns (total 15 columns):\n",
      " #   Column             Non-Null Count  Dtype  \n",
      "---  ------             --------------  -----  \n",
      " 0   Unnamed: 0         4989 non-null   int64  \n",
      " 1   Title              4989 non-null   object \n",
      " 2   Average Rating     4989 non-null   float64\n",
      " 3   Director           4989 non-null   object \n",
      " 4   Writer             4988 non-null   object \n",
      " 5   Metascore          3055 non-null   float64\n",
      " 6   Cast               4982 non-null   object \n",
      " 7   Release Date       4989 non-null   object \n",
      " 8   Country of Origin  4986 non-null   object \n",
      " 9   Languages          4968 non-null   object \n",
      " 10  Budget             2651 non-null   object \n",
      " 11  Worldwide Gross    3895 non-null   object \n",
      " 12  Runtime            4989 non-null   object \n",
      " 13  Writer.1           4988 non-null   object \n",
      " 14  Average Rating.1   4989 non-null   float64\n",
      "dtypes: float64(3), int64(1), object(11)\n",
      "memory usage: 623.6+ KB\n"
     ]
    }
   ],
   "source": [
    "df.info()"
   ]
  },
  {
   "cell_type": "code",
   "execution_count": 34,
   "id": "c3b5aed0",
   "metadata": {},
   "outputs": [
    {
     "data": {
      "text/plain": [
       "Unnamed: 0           False\n",
       "Title                False\n",
       "Average Rating       False\n",
       "Director             False\n",
       "Writer               False\n",
       "Metascore            False\n",
       "Cast                 False\n",
       "Release Date         False\n",
       "Country of Origin    False\n",
       "Languages            False\n",
       "Budget               False\n",
       "Worldwide Gross      False\n",
       "Runtime              False\n",
       "Writer.1              True\n",
       "Average Rating.1      True\n",
       "dtype: bool"
      ]
     },
     "execution_count": 34,
     "metadata": {},
     "output_type": "execute_result"
    }
   ],
   "source": [
    "# Ustun boyicha duplicated elementlarni aniqlang\n",
    "df.T.duplicated()"
   ]
  },
  {
   "cell_type": "code",
   "execution_count": 35,
   "id": "27673025",
   "metadata": {},
   "outputs": [
    {
     "data": {
      "text/html": [
       "<div>\n",
       "<style scoped>\n",
       "    .dataframe tbody tr th:only-of-type {\n",
       "        vertical-align: middle;\n",
       "    }\n",
       "\n",
       "    .dataframe tbody tr th {\n",
       "        vertical-align: top;\n",
       "    }\n",
       "\n",
       "    .dataframe thead th {\n",
       "        text-align: right;\n",
       "    }\n",
       "</style>\n",
       "<table border=\"1\" class=\"dataframe\">\n",
       "  <thead>\n",
       "    <tr style=\"text-align: right;\">\n",
       "      <th></th>\n",
       "      <th>0</th>\n",
       "      <th>1</th>\n",
       "      <th>2</th>\n",
       "      <th>3</th>\n",
       "      <th>4</th>\n",
       "      <th>5</th>\n",
       "      <th>6</th>\n",
       "      <th>7</th>\n",
       "      <th>8</th>\n",
       "      <th>9</th>\n",
       "      <th>...</th>\n",
       "      <th>4979</th>\n",
       "      <th>4980</th>\n",
       "      <th>4981</th>\n",
       "      <th>4982</th>\n",
       "      <th>4983</th>\n",
       "      <th>4984</th>\n",
       "      <th>4985</th>\n",
       "      <th>4986</th>\n",
       "      <th>4987</th>\n",
       "      <th>4988</th>\n",
       "    </tr>\n",
       "  </thead>\n",
       "  <tbody>\n",
       "    <tr>\n",
       "      <th>Writer.1</th>\n",
       "      <td>Stephen King, Frank Darabont</td>\n",
       "      <td>Natsuki Hanae, Yoshimasa Hosoya, Marina Inoue</td>\n",
       "      <td>Mario Puzo, Francis Ford Coppola</td>\n",
       "      <td>Umur Bugay, Rifat Ilgaz</td>\n",
       "      <td>Rani Burra, Ram Mohan, Yûgô Sakô</td>\n",
       "      <td>Suzanne Bernert</td>\n",
       "      <td>Pingali Nagendra Rao, Kadiri Venkata Reddy</td>\n",
       "      <td>Jonathan Nolan, Christopher Nolan, David S. Goyer</td>\n",
       "      <td>Thomas Keneally, Steven Zaillian</td>\n",
       "      <td>Reginald Rose</td>\n",
       "      <td>...</td>\n",
       "      <td>Leila Conners, Nadia Conners, Leonardo DiCaprio</td>\n",
       "      <td>Samuel Maoz</td>\n",
       "      <td>Hiroyuki Yamaga, Hiroshi Ônogi</td>\n",
       "      <td>Mahesh Bhatt, Girish Dhamija, Anurag Basu</td>\n",
       "      <td>Nuran Evren Sit</td>\n",
       "      <td>Jorge Guerricaechevarría, Álex de la Iglesia</td>\n",
       "      <td>Roy Chanslor, Arthur Conan Doyle</td>\n",
       "      <td>Hiroshi Takahashi, Shôgo Mutô</td>\n",
       "      <td>Ruben Alves, Luc-Olivier Veuve, Jean-André Yerlès</td>\n",
       "      <td>Kwak Kyung-taek</td>\n",
       "    </tr>\n",
       "    <tr>\n",
       "      <th>Average Rating.1</th>\n",
       "      <td>9.3</td>\n",
       "      <td>9.3</td>\n",
       "      <td>9.2</td>\n",
       "      <td>9.2</td>\n",
       "      <td>9.2</td>\n",
       "      <td>9.1</td>\n",
       "      <td>9.1</td>\n",
       "      <td>9.0</td>\n",
       "      <td>9.0</td>\n",
       "      <td>9.0</td>\n",
       "      <td>...</td>\n",
       "      <td>7.2</td>\n",
       "      <td>7.2</td>\n",
       "      <td>7.2</td>\n",
       "      <td>7.2</td>\n",
       "      <td>7.2</td>\n",
       "      <td>7.2</td>\n",
       "      <td>7.2</td>\n",
       "      <td>7.2</td>\n",
       "      <td>7.2</td>\n",
       "      <td>7.2</td>\n",
       "    </tr>\n",
       "  </tbody>\n",
       "</table>\n",
       "<p>2 rows × 4989 columns</p>\n",
       "</div>"
      ],
      "text/plain": [
       "                                          0     \\\n",
       "Writer.1          Stephen King, Frank Darabont   \n",
       "Average Rating.1                           9.3   \n",
       "\n",
       "                                                           1     \\\n",
       "Writer.1          Natsuki Hanae, Yoshimasa Hosoya, Marina Inoue   \n",
       "Average Rating.1                                            9.3   \n",
       "\n",
       "                                              2                        3     \\\n",
       "Writer.1          Mario Puzo, Francis Ford Coppola  Umur Bugay, Rifat Ilgaz   \n",
       "Average Rating.1                               9.2                      9.2   \n",
       "\n",
       "                                              4                5     \\\n",
       "Writer.1          Rani Burra, Ram Mohan, Yûgô Sakô  Suzanne Bernert   \n",
       "Average Rating.1                               9.2              9.1   \n",
       "\n",
       "                                                        6     \\\n",
       "Writer.1          Pingali Nagendra Rao, Kadiri Venkata Reddy   \n",
       "Average Rating.1                                         9.1   \n",
       "\n",
       "                                                               7     \\\n",
       "Writer.1          Jonathan Nolan, Christopher Nolan, David S. Goyer   \n",
       "Average Rating.1                                                9.0   \n",
       "\n",
       "                                              8              9     ...  \\\n",
       "Writer.1          Thomas Keneally, Steven Zaillian  Reginald Rose  ...   \n",
       "Average Rating.1                               9.0            9.0  ...   \n",
       "\n",
       "                                                             4979  \\\n",
       "Writer.1          Leila Conners, Nadia Conners, Leonardo DiCaprio   \n",
       "Average Rating.1                                              7.2   \n",
       "\n",
       "                         4980                            4981  \\\n",
       "Writer.1          Samuel Maoz  Hiroyuki Yamaga, Hiroshi Ônogi   \n",
       "Average Rating.1          7.2                             7.2   \n",
       "\n",
       "                                                       4982             4983  \\\n",
       "Writer.1          Mahesh Bhatt, Girish Dhamija, Anurag Basu  Nuran Evren Sit   \n",
       "Average Rating.1                                        7.2              7.2   \n",
       "\n",
       "                                                          4984  \\\n",
       "Writer.1          Jorge Guerricaechevarría, Álex de la Iglesia   \n",
       "Average Rating.1                                           7.2   \n",
       "\n",
       "                                              4985  \\\n",
       "Writer.1          Roy Chanslor, Arthur Conan Doyle   \n",
       "Average Rating.1                               7.2   \n",
       "\n",
       "                                           4986  \\\n",
       "Writer.1          Hiroshi Takahashi, Shôgo Mutô   \n",
       "Average Rating.1                            7.2   \n",
       "\n",
       "                                                               4987  \\\n",
       "Writer.1          Ruben Alves, Luc-Olivier Veuve, Jean-André Yerlès   \n",
       "Average Rating.1                                                7.2   \n",
       "\n",
       "                             4988  \n",
       "Writer.1          Kwak Kyung-taek  \n",
       "Average Rating.1              7.2  \n",
       "\n",
       "[2 rows x 4989 columns]"
      ]
     },
     "execution_count": 35,
     "metadata": {},
     "output_type": "execute_result"
    }
   ],
   "source": [
    "df.T[df.T.duplicated()]"
   ]
  },
  {
   "cell_type": "code",
   "execution_count": 36,
   "id": "25b45dbc",
   "metadata": {},
   "outputs": [],
   "source": [
    "df=df.loc[:,~df.T.duplicated()]"
   ]
  },
  {
   "cell_type": "code",
   "execution_count": 37,
   "id": "d869e584",
   "metadata": {},
   "outputs": [
    {
     "data": {
      "text/html": [
       "<div>\n",
       "<style scoped>\n",
       "    .dataframe tbody tr th:only-of-type {\n",
       "        vertical-align: middle;\n",
       "    }\n",
       "\n",
       "    .dataframe tbody tr th {\n",
       "        vertical-align: top;\n",
       "    }\n",
       "\n",
       "    .dataframe thead th {\n",
       "        text-align: right;\n",
       "    }\n",
       "</style>\n",
       "<table border=\"1\" class=\"dataframe\">\n",
       "  <thead>\n",
       "    <tr style=\"text-align: right;\">\n",
       "      <th></th>\n",
       "      <th>0</th>\n",
       "      <th>1</th>\n",
       "      <th>2</th>\n",
       "      <th>3</th>\n",
       "      <th>4</th>\n",
       "      <th>5</th>\n",
       "      <th>6</th>\n",
       "      <th>7</th>\n",
       "      <th>8</th>\n",
       "      <th>9</th>\n",
       "      <th>...</th>\n",
       "      <th>4979</th>\n",
       "      <th>4980</th>\n",
       "      <th>4981</th>\n",
       "      <th>4982</th>\n",
       "      <th>4983</th>\n",
       "      <th>4984</th>\n",
       "      <th>4985</th>\n",
       "      <th>4986</th>\n",
       "      <th>4987</th>\n",
       "      <th>4988</th>\n",
       "    </tr>\n",
       "  </thead>\n",
       "  <tbody>\n",
       "  </tbody>\n",
       "</table>\n",
       "<p>0 rows × 4989 columns</p>\n",
       "</div>"
      ],
      "text/plain": [
       "Empty DataFrame\n",
       "Columns: [0, 1, 2, 3, 4, 5, 6, 7, 8, 9, 10, 11, 12, 13, 14, 15, 16, 17, 18, 19, 20, 21, 22, 23, 24, 25, 26, 27, 28, 29, 30, 31, 32, 33, 34, 35, 36, 37, 38, 39, 40, 41, 42, 43, 44, 45, 46, 47, 48, 49, 50, 51, 52, 53, 54, 55, 56, 57, 58, 59, 60, 61, 62, 63, 64, 65, 66, 67, 68, 69, 70, 71, 72, 73, 74, 75, 76, 77, 78, 79, 80, 81, 82, 83, 84, 85, 86, 87, 88, 89, 90, 91, 92, 93, 94, 95, 96, 97, 98, 99, ...]\n",
       "Index: []\n",
       "\n",
       "[0 rows x 4989 columns]"
      ]
     },
     "execution_count": 37,
     "metadata": {},
     "output_type": "execute_result"
    }
   ],
   "source": [
    "df.T[df.T.duplicated()]"
   ]
  },
  {
   "cell_type": "code",
   "execution_count": 38,
   "id": "0ab6e05b",
   "metadata": {},
   "outputs": [
    {
     "data": {
      "text/plain": [
       "Unnamed: 0           False\n",
       "Title                False\n",
       "Average Rating       False\n",
       "Director             False\n",
       "Writer               False\n",
       "Metascore            False\n",
       "Cast                 False\n",
       "Release Date         False\n",
       "Country of Origin    False\n",
       "Languages            False\n",
       "Budget               False\n",
       "Worldwide Gross      False\n",
       "Runtime              False\n",
       "dtype: bool"
      ]
     },
     "execution_count": 38,
     "metadata": {},
     "output_type": "execute_result"
    }
   ],
   "source": [
    "df.T.duplicated()"
   ]
  },
  {
   "cell_type": "code",
   "execution_count": null,
   "id": "5369e4d7",
   "metadata": {},
   "outputs": [],
   "source": []
  }
 ],
 "metadata": {
  "kernelspec": {
   "display_name": "base",
   "language": "python",
   "name": "python3"
  },
  "language_info": {
   "codemirror_mode": {
    "name": "ipython",
    "version": 3
   },
   "file_extension": ".py",
   "mimetype": "text/x-python",
   "name": "python",
   "nbconvert_exporter": "python",
   "pygments_lexer": "ipython3",
   "version": "3.11.7"
  }
 },
 "nbformat": 4,
 "nbformat_minor": 5
}
