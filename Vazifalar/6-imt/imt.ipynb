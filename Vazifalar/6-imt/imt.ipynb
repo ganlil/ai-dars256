{
 "cells": [
  {
   "cell_type": "markdown",
   "id": "a3c91935",
   "metadata": {},
   "source": [
    "# Imtihon"
   ]
  },
  {
   "cell_type": "code",
   "execution_count": null,
   "id": "6a194413",
   "metadata": {},
   "outputs": [],
   "source": [
    "# 1. Supervised ML qanday turlarga bo’linadi?\n",
    "# 1. Casification (bu ham ikkiga bulinadi, binary and multi clasification) 2 Regression (qul bn sanab bulmaygigan jb lar un) "
   ]
  },
  {
   "cell_type": "code",
   "execution_count": 3,
   "id": "acd8de2c",
   "metadata": {},
   "outputs": [],
   "source": [
    "# 3. Input va outputni bir biridan farqi nimada?\n",
    "# input lar bu malumotlar bb outputlar esa modelning bashoratlari\n"
   ]
  },
  {
   "cell_type": "code",
   "execution_count": 4,
   "id": "5cb8cf06",
   "metadata": {},
   "outputs": [],
   "source": [
    "# 4. Data Preprocessing nima?\n",
    "# Data Preprocessing - bu malumotlarni tayyorlash jarayoni, malumotlarni tozalash, tushirilganlarni tuldirish, va boshqalar."
   ]
  },
  {
   "cell_type": "code",
   "execution_count": null,
   "id": "a671554f",
   "metadata": {},
   "outputs": [],
   "source": [
    "# 5. Mean va Modeni farqi nimada?\n",
    "# Mean - bu malumotlarning ortacha qiymati, Modeni esa eng kop uchraydigan qiymat."
   ]
  },
  {
   "cell_type": "code",
   "execution_count": 6,
   "id": "df2d90f9",
   "metadata": {},
   "outputs": [],
   "source": [
    "# 6. Regression va Classificationga idea ayting?\n",
    "# Regression - bu malumotlar asosida sonli qiymatlarni bashorat qilish, masalan, uy narxini bashorat qilish.\n",
    "# Classification - bu malumotlar asosida kategoriyalarni aniqlash, masalan, emailni spam yoki spam emas deb tasniflash."
   ]
  },
  {
   "cell_type": "code",
   "execution_count": 7,
   "id": "f4e23aa0",
   "metadata": {},
   "outputs": [],
   "source": [
    "# 7. Tushurib qoldilgan qiymatlarni to’ldirish usullari va ular qanday ishlaydi?\n",
    "# - Mean - ortacha qiymati bilan toldirish.\n",
    "# - Mode eng kup ishlatilgan qiymati bilan toldirish.\n",
    "# - Median - urtadagi qiymat bilan toldirish."
   ]
  },
  {
   "cell_type": "code",
   "execution_count": 8,
   "id": "600990f4",
   "metadata": {},
   "outputs": [],
   "source": [
    "# 8. ML va AI da eng muhim element?\n",
    "# Data va malumotlar"
   ]
  },
  {
   "cell_type": "code",
   "execution_count": 9,
   "id": "b8130331",
   "metadata": {},
   "outputs": [],
   "source": [
    "# 9. Median qanday ishlaydi? MISOL keltiring.\n",
    "# - Median - urtadagi qiymat bilan toldirish.       "
   ]
  },
  {
   "cell_type": "code",
   "execution_count": 10,
   "id": "a85077fb",
   "metadata": {},
   "outputs": [],
   "source": [
    "# 10. SML da qanday turdagi dataset bn ishlaymiz?\n",
    "# - Supervised ML da biz labeled dataset bn ishlaymiz, ya'ni har bir input ga mos output mavjud.                          "
   ]
  },
  {
   "cell_type": "markdown",
   "id": "694e71d4",
   "metadata": {},
   "source": [
    " # Coding"
   ]
  },
  {
   "cell_type": "code",
   "execution_count": 12,
   "id": "25600b66",
   "metadata": {},
   "outputs": [],
   "source": [
    "import pandas as pd"
   ]
  },
  {
   "cell_type": "code",
   "execution_count": null,
   "id": "18d9af69",
   "metadata": {},
   "outputs": [
    {
     "ename": "NameError",
     "evalue": "name 'son' is not defined",
     "output_type": "error",
     "traceback": [
      "\u001b[0;31m---------------------------------------------------------------------------\u001b[0m",
      "\u001b[0;31mNameError\u001b[0m                                 Traceback (most recent call last)",
      "Cell \u001b[0;32mIn[15], line 2\u001b[0m\n\u001b[1;32m      1\u001b[0m \u001b[38;5;66;03m# 1. Agar berilgan son 2 ga bo’linsa yaxshi aks xolda yomon degan sozni ekrang chiqaring?\u001b[39;00m\n\u001b[0;32m----> 2\u001b[0m \u001b[38;5;28;01mif\u001b[39;00m \u001b[43mson\u001b[49m \u001b[38;5;241m%\u001b[39m \u001b[38;5;241m2\u001b[39m \u001b[38;5;241m==\u001b[39m \u001b[38;5;241m0\u001b[39m:\n\u001b[1;32m      3\u001b[0m     \u001b[38;5;28mprint\u001b[39m(\u001b[38;5;124m\"\u001b[39m\u001b[38;5;124mYaxshi\u001b[39m\u001b[38;5;124m\"\u001b[39m)\n\u001b[1;32m      4\u001b[0m \u001b[38;5;28;01melse\u001b[39;00m:\n",
      "\u001b[0;31mNameError\u001b[0m: name 'son' is not defined"
     ]
    }
   ],
   "source": [
    "# 1. Agar berilgan son 2 ga bo’linsa yaxshi aks xolda yomon degan sozni ekrang chiqaring?\n",
    "\n",
    "if son  2 == 0:\n",
    "    print(\"Yaxshi\")\n",
    "else:\n",
    "    print(\"Yomon\")"
   ]
  },
  {
   "cell_type": "code",
   "execution_count": 23,
   "id": "9d53f741",
   "metadata": {},
   "outputs": [
    {
     "name": "stdout",
     "output_type": "stream",
     "text": [
      "yaxshi\n"
     ]
    }
   ],
   "source": [
    "# 2. Agar berilgan son musbat bo’lsa yaxshi aks xolda yomon degan sozni ekrang chiqaring?\n",
    "\n",
    "son = 1\n",
    "if son > 0:\n",
    "    print(\"yaxshi\")\n",
    "else:\n",
    "    print(\"yomon\")"
   ]
  },
  {
   "cell_type": "code",
   "execution_count": 24,
   "id": "e85cbc91",
   "metadata": {},
   "outputs": [
    {
     "name": "stdout",
     "output_type": "stream",
     "text": [
      "Yaxshi\n"
     ]
    }
   ],
   "source": [
    "# 3. Agar berilgan 5 ga va 3 ga bolinsa yaxshi aks xolda yomon degan sozni ekrang chiqaring?\n",
    "son = 15\n",
    "if son % 5 == 0 and son % 3 == 0:\n",
    "    print(\"Yaxshi\")\n",
    "else:\n",
    "    print(\"Yomon\")  "
   ]
  },
  {
   "cell_type": "code",
   "execution_count": 26,
   "id": "c4f28cbc",
   "metadata": {},
   "outputs": [
    {
     "name": "stdout",
     "output_type": "stream",
     "text": [
      "Yaxshi\n"
     ]
    }
   ],
   "source": [
    "# 4. Agar berilgan so’zning bosh xarfi ‘a’ bolsa yaxshi aks xolda yomon degan sozni ekrang chiqaring \n",
    "soz = \"alisher\"\n",
    "if soz[0].lower() == 'a':\n",
    "    print(\"Yaxshi\")\n",
    "else:\n",
    "    print(\"Yomon\")\n",
    "\n"
   ]
  },
  {
   "cell_type": "code",
   "execution_count": 27,
   "id": "8a582708",
   "metadata": {},
   "outputs": [
    {
     "name": "stdout",
     "output_type": "stream",
     "text": [
      "Yomon\n"
     ]
    }
   ],
   "source": [
    "# 5. Agar berilgan so’zning oxirgi xarfi ‘a’ bolsa yaxshi aks xolda yomon degan sozni ekrang chiqaring \n",
    "soz = \"alisher\"\n",
    "if soz[-1].lower() == 'a':\n",
    "    print(\"Yaxshi\")\n",
    "else:\n",
    "    print(\"Yomon\")\n",
    "    "
   ]
  },
  {
   "cell_type": "code",
   "execution_count": 28,
   "id": "cdcaddc7",
   "metadata": {},
   "outputs": [
    {
     "ename": "SyntaxError",
     "evalue": "invalid syntax (805640935.py, line 4)",
     "output_type": "error",
     "traceback": [
      "\u001b[0;36m  Cell \u001b[0;32mIn[28], line 4\u001b[0;36m\u001b[0m\n\u001b[0;31m    if soz[0].lower() == 'b' and soz[-1].lower() ==\u001b[0m\n\u001b[0m                                                   ^\u001b[0m\n\u001b[0;31mSyntaxError\u001b[0m\u001b[0;31m:\u001b[0m invalid syntax\n"
     ]
    }
   ],
   "source": [
    "# 6. Agar berilgan so’zning bosh xarfi ‘b’ va oxirgi xarfi ‘a’ bolsa yaxshi aks xolda yomon degan sozni ekrang chiqaring \n",
    "\n",
    "soz = \"baxrom\"\n",
    "if soz[0].lower() == 'b' and soz[-1].lower() ==\n",
    "    'a':\n",
    "    print(\"Yaxshi\")\n",
    "else:\n",
    "    print(\"Yomon\")\n",
    "    "
   ]
  },
  {
   "cell_type": "code",
   "execution_count": null,
   "id": "fc65c0f5",
   "metadata": {},
   "outputs": [],
   "source": [
    "#   7. Berilgan sonning musbat ekanligini isbotlang\n",
    "son = 5\n",
    "if son > 0:\n",
    "    print(\"Musbat\")\n",
    "else:\n",
    "    print(\"Musbat emas\")\n",
    "    "
   ]
  },
  {
   "cell_type": "markdown",
   "id": "adc070ec",
   "metadata": {},
   "source": [
    "# ML coding(2-minut)"
   ]
  },
  {
   "cell_type": "code",
   "execution_count": 2,
   "id": "4b32bd8e",
   "metadata": {},
   "outputs": [],
   "source": [
    "\n",
    "import pandas as pd"
   ]
  },
  {
   "cell_type": "code",
   "execution_count": 3,
   "id": "1755fb4a",
   "metadata": {},
   "outputs": [],
   "source": [
    "df = pd.read_csv(\"ai_job_dataset.csv\")"
   ]
  },
  {
   "cell_type": "code",
   "execution_count": 4,
   "id": "285e6f98",
   "metadata": {},
   "outputs": [
    {
     "data": {
      "text/html": [
       "<div>\n",
       "<style scoped>\n",
       "    .dataframe tbody tr th:only-of-type {\n",
       "        vertical-align: middle;\n",
       "    }\n",
       "\n",
       "    .dataframe tbody tr th {\n",
       "        vertical-align: top;\n",
       "    }\n",
       "\n",
       "    .dataframe thead th {\n",
       "        text-align: right;\n",
       "    }\n",
       "</style>\n",
       "<table border=\"1\" class=\"dataframe\">\n",
       "  <thead>\n",
       "    <tr style=\"text-align: right;\">\n",
       "      <th></th>\n",
       "      <th>job_id</th>\n",
       "      <th>job_title</th>\n",
       "      <th>salary_usd</th>\n",
       "      <th>company_location</th>\n",
       "      <th>company_size</th>\n",
       "      <th>remote_ratio</th>\n",
       "      <th>required_skills</th>\n",
       "      <th>education_required</th>\n",
       "      <th>years_experience</th>\n",
       "      <th>posting_date</th>\n",
       "      <th>job_description_length</th>\n",
       "      <th>benefits_score</th>\n",
       "    </tr>\n",
       "  </thead>\n",
       "  <tbody>\n",
       "    <tr>\n",
       "      <th>0</th>\n",
       "      <td>AI00001</td>\n",
       "      <td>AI Research Scientist</td>\n",
       "      <td>90376.0</td>\n",
       "      <td>China</td>\n",
       "      <td>M</td>\n",
       "      <td>50.0</td>\n",
       "      <td>Tableau, PyTorch, Kubernetes, Linux, NLP</td>\n",
       "      <td>Bachelor</td>\n",
       "      <td>9.0</td>\n",
       "      <td>2024/10/18</td>\n",
       "      <td>1076.0</td>\n",
       "      <td>5.9</td>\n",
       "    </tr>\n",
       "    <tr>\n",
       "      <th>1</th>\n",
       "      <td>AI00002</td>\n",
       "      <td>AI Software Engineer</td>\n",
       "      <td>61895.0</td>\n",
       "      <td>Canada</td>\n",
       "      <td>M</td>\n",
       "      <td>100.0</td>\n",
       "      <td>Deep Learning, AWS, Mathematics, Python, Docker</td>\n",
       "      <td>Master</td>\n",
       "      <td>1.0</td>\n",
       "      <td>2024/11/20</td>\n",
       "      <td>1268.0</td>\n",
       "      <td>5.2</td>\n",
       "    </tr>\n",
       "    <tr>\n",
       "      <th>2</th>\n",
       "      <td>AI00003</td>\n",
       "      <td>NaN</td>\n",
       "      <td>152626.0</td>\n",
       "      <td>Switzerland</td>\n",
       "      <td>L</td>\n",
       "      <td>0.0</td>\n",
       "      <td>Kubernetes, Deep Learning, Java, Hadoop, NLP</td>\n",
       "      <td>Associate</td>\n",
       "      <td>2.0</td>\n",
       "      <td>2025/03/18</td>\n",
       "      <td>1974.0</td>\n",
       "      <td>9.4</td>\n",
       "    </tr>\n",
       "    <tr>\n",
       "      <th>3</th>\n",
       "      <td>AI00004</td>\n",
       "      <td>NaN</td>\n",
       "      <td>80215.0</td>\n",
       "      <td>India</td>\n",
       "      <td>M</td>\n",
       "      <td>50.0</td>\n",
       "      <td>Scala, SQL, Linux, Python</td>\n",
       "      <td>PhD</td>\n",
       "      <td>7.0</td>\n",
       "      <td>2024/12/23</td>\n",
       "      <td>1345.0</td>\n",
       "      <td>8.6</td>\n",
       "    </tr>\n",
       "    <tr>\n",
       "      <th>4</th>\n",
       "      <td>AI00005</td>\n",
       "      <td>AI Consultant</td>\n",
       "      <td>54624.0</td>\n",
       "      <td>France</td>\n",
       "      <td>S</td>\n",
       "      <td>100.0</td>\n",
       "      <td>MLOps, Java, Tableau, Python</td>\n",
       "      <td>Master</td>\n",
       "      <td>0.0</td>\n",
       "      <td>2025/04/15</td>\n",
       "      <td>1989.0</td>\n",
       "      <td>6.6</td>\n",
       "    </tr>\n",
       "  </tbody>\n",
       "</table>\n",
       "</div>"
      ],
      "text/plain": [
       "    job_id              job_title  salary_usd company_location company_size  \\\n",
       "0  AI00001  AI Research Scientist     90376.0            China            M   \n",
       "1  AI00002   AI Software Engineer     61895.0           Canada            M   \n",
       "2  AI00003                    NaN    152626.0      Switzerland            L   \n",
       "3  AI00004                    NaN     80215.0            India            M   \n",
       "4  AI00005          AI Consultant     54624.0           France            S   \n",
       "\n",
       "   remote_ratio                                  required_skills  \\\n",
       "0          50.0         Tableau, PyTorch, Kubernetes, Linux, NLP   \n",
       "1         100.0  Deep Learning, AWS, Mathematics, Python, Docker   \n",
       "2           0.0     Kubernetes, Deep Learning, Java, Hadoop, NLP   \n",
       "3          50.0                        Scala, SQL, Linux, Python   \n",
       "4         100.0                     MLOps, Java, Tableau, Python   \n",
       "\n",
       "  education_required  years_experience posting_date  job_description_length  \\\n",
       "0           Bachelor               9.0   2024/10/18                  1076.0   \n",
       "1             Master               1.0   2024/11/20                  1268.0   \n",
       "2          Associate               2.0   2025/03/18                  1974.0   \n",
       "3                PhD               7.0   2024/12/23                  1345.0   \n",
       "4             Master               0.0   2025/04/15                  1989.0   \n",
       "\n",
       "   benefits_score  \n",
       "0             5.9  \n",
       "1             5.2  \n",
       "2             9.4  \n",
       "3             8.6  \n",
       "4             6.6  "
      ]
     },
     "execution_count": 4,
     "metadata": {},
     "output_type": "execute_result"
    }
   ],
   "source": [
    "df.head()\n"
   ]
  },
  {
   "cell_type": "code",
   "execution_count": 7,
   "id": "66aa8427",
   "metadata": {},
   "outputs": [
    {
     "data": {
      "text/plain": [
       "job_id                    2\n",
       "job_title                 6\n",
       "salary_usd                0\n",
       "company_location          0\n",
       "company_size              5\n",
       "remote_ratio              4\n",
       "required_skills           2\n",
       "education_required        1\n",
       "years_experience          4\n",
       "posting_date              5\n",
       "job_description_length    8\n",
       "benefits_score            3\n",
       "dtype: int64"
      ]
     },
     "execution_count": 7,
     "metadata": {},
     "output_type": "execute_result"
    }
   ],
   "source": [
    "df.isnull().sum()"
   ]
  },
  {
   "cell_type": "code",
   "execution_count": 6,
   "id": "1e3ca93e",
   "metadata": {},
   "outputs": [
    {
     "name": "stderr",
     "output_type": "stream",
     "text": [
      "/var/folders/p7/yhy3_xrd6cg9c5gjkkbmgbj80000gr/T/ipykernel_21432/1593431775.py:2: FutureWarning: A value is trying to be set on a copy of a DataFrame or Series through chained assignment using an inplace method.\n",
      "The behavior will change in pandas 3.0. This inplace method will never work because the intermediate object on which we are setting values always behaves as a copy.\n",
      "\n",
      "For example, when doing 'df[col].method(value, inplace=True)', try using 'df.method({col: value}, inplace=True)' or df[col] = df[col].method(value) instead, to perform the operation inplace on the original object.\n",
      "\n",
      "\n",
      "  df['salary_usd'].fillna(df['salary_usd'].mean(), inplace=True)\n"
     ]
    }
   ],
   "source": [
    "#  1. Mean orqali to’ldiring\n",
    "df['salary_usd'].fillna(df['salary_usd'].mean(), inplace=True)  "
   ]
  },
  {
   "cell_type": "code",
   "execution_count": 13,
   "id": "a036bccc",
   "metadata": {},
   "outputs": [],
   "source": [
    "# 2. Mode orqali to’ldiring\n",
    "df['posting_date'].fillna(df['posting_date'].mode()[0], inplace=True)  "
   ]
  },
  {
   "cell_type": "code",
   "execution_count": 14,
   "id": "8cb3e622",
   "metadata": {},
   "outputs": [
    {
     "data": {
      "text/plain": [
       "job_id                    2\n",
       "job_title                 6\n",
       "salary_usd                0\n",
       "company_location          0\n",
       "company_size              5\n",
       "remote_ratio              4\n",
       "required_skills           2\n",
       "education_required        1\n",
       "years_experience          4\n",
       "posting_date              0\n",
       "job_description_length    8\n",
       "benefits_score            3\n",
       "dtype: int64"
      ]
     },
     "execution_count": 14,
     "metadata": {},
     "output_type": "execute_result"
    }
   ],
   "source": [
    "df.isnull().sum()"
   ]
  },
  {
   "cell_type": "code",
   "execution_count": 15,
   "id": "8e584a7c",
   "metadata": {},
   "outputs": [
    {
     "name": "stderr",
     "output_type": "stream",
     "text": [
      "/var/folders/p7/yhy3_xrd6cg9c5gjkkbmgbj80000gr/T/ipykernel_21432/2922818338.py:2: FutureWarning: A value is trying to be set on a copy of a DataFrame or Series through chained assignment using an inplace method.\n",
      "The behavior will change in pandas 3.0. This inplace method will never work because the intermediate object on which we are setting values always behaves as a copy.\n",
      "\n",
      "For example, when doing 'df[col].method(value, inplace=True)', try using 'df.method({col: value}, inplace=True)' or df[col] = df[col].method(value) instead, to perform the operation inplace on the original object.\n",
      "\n",
      "\n",
      "  df['remote_ratio'].fillna('44', inplace=True)\n",
      "/var/folders/p7/yhy3_xrd6cg9c5gjkkbmgbj80000gr/T/ipykernel_21432/2922818338.py:2: FutureWarning: Setting an item of incompatible dtype is deprecated and will raise an error in a future version of pandas. Value '44' has dtype incompatible with float64, please explicitly cast to a compatible dtype first.\n",
      "  df['remote_ratio'].fillna('44', inplace=True)\n"
     ]
    }
   ],
   "source": [
    "# 4. Fixed qiymat bn to’ldiring\n",
    "df['remote_ratio'].fillna('44', inplace=True)\n"
   ]
  },
  {
   "cell_type": "code",
   "execution_count": 16,
   "id": "bf71a02e",
   "metadata": {},
   "outputs": [
    {
     "data": {
      "text/plain": [
       "job_id                    2\n",
       "job_title                 6\n",
       "salary_usd                0\n",
       "company_location          0\n",
       "company_size              5\n",
       "remote_ratio              0\n",
       "required_skills           2\n",
       "education_required        1\n",
       "years_experience          4\n",
       "posting_date              0\n",
       "job_description_length    8\n",
       "benefits_score            3\n",
       "dtype: int64"
      ]
     },
     "execution_count": 16,
     "metadata": {},
     "output_type": "execute_result"
    }
   ],
   "source": [
    "df.isnull().sum()"
   ]
  },
  {
   "cell_type": "code",
   "execution_count": 19,
   "id": "3046551c",
   "metadata": {},
   "outputs": [
    {
     "ename": "KeyError",
     "evalue": "\"['company_logo'] not found in axis\"",
     "output_type": "error",
     "traceback": [
      "\u001b[0;31m---------------------------------------------------------------------------\u001b[0m",
      "\u001b[0;31mKeyError\u001b[0m                                  Traceback (most recent call last)",
      "Cell \u001b[0;32mIn[19], line 2\u001b[0m\n\u001b[1;32m      1\u001b[0m \u001b[38;5;66;03m#  5. Istalgan ustunni tashlab yuboring\u001b[39;00m\n\u001b[0;32m----> 2\u001b[0m \u001b[43mdf\u001b[49m\u001b[38;5;241;43m.\u001b[39;49m\u001b[43mdrop\u001b[49m\u001b[43m(\u001b[49m\u001b[43m[\u001b[49m\u001b[38;5;124;43m'\u001b[39;49m\u001b[38;5;124;43mcompany_logo\u001b[39;49m\u001b[38;5;124;43m'\u001b[39;49m\u001b[43m]\u001b[49m\u001b[43m,\u001b[49m\u001b[43m \u001b[49m\u001b[43maxis\u001b[49m\u001b[38;5;241;43m=\u001b[39;49m\u001b[38;5;241;43m1\u001b[39;49m\u001b[43m,\u001b[49m\u001b[43m \u001b[49m\u001b[43minplace\u001b[49m\u001b[38;5;241;43m=\u001b[39;49m\u001b[38;5;28;43;01mTrue\u001b[39;49;00m\u001b[43m)\u001b[49m\n",
      "File \u001b[0;32m~/Library/Python/3.9/lib/python/site-packages/pandas/core/frame.py:5588\u001b[0m, in \u001b[0;36mDataFrame.drop\u001b[0;34m(self, labels, axis, index, columns, level, inplace, errors)\u001b[0m\n\u001b[1;32m   5440\u001b[0m \u001b[38;5;28;01mdef\u001b[39;00m\u001b[38;5;250m \u001b[39m\u001b[38;5;21mdrop\u001b[39m(\n\u001b[1;32m   5441\u001b[0m     \u001b[38;5;28mself\u001b[39m,\n\u001b[1;32m   5442\u001b[0m     labels: IndexLabel \u001b[38;5;241m|\u001b[39m \u001b[38;5;28;01mNone\u001b[39;00m \u001b[38;5;241m=\u001b[39m \u001b[38;5;28;01mNone\u001b[39;00m,\n\u001b[0;32m   (...)\u001b[0m\n\u001b[1;32m   5449\u001b[0m     errors: IgnoreRaise \u001b[38;5;241m=\u001b[39m \u001b[38;5;124m\"\u001b[39m\u001b[38;5;124mraise\u001b[39m\u001b[38;5;124m\"\u001b[39m,\n\u001b[1;32m   5450\u001b[0m ) \u001b[38;5;241m-\u001b[39m\u001b[38;5;241m>\u001b[39m DataFrame \u001b[38;5;241m|\u001b[39m \u001b[38;5;28;01mNone\u001b[39;00m:\n\u001b[1;32m   5451\u001b[0m \u001b[38;5;250m    \u001b[39m\u001b[38;5;124;03m\"\"\"\u001b[39;00m\n\u001b[1;32m   5452\u001b[0m \u001b[38;5;124;03m    Drop specified labels from rows or columns.\u001b[39;00m\n\u001b[1;32m   5453\u001b[0m \n\u001b[0;32m   (...)\u001b[0m\n\u001b[1;32m   5586\u001b[0m \u001b[38;5;124;03m            weight  1.0     0.8\u001b[39;00m\n\u001b[1;32m   5587\u001b[0m \u001b[38;5;124;03m    \"\"\"\u001b[39;00m\n\u001b[0;32m-> 5588\u001b[0m     \u001b[38;5;28;01mreturn\u001b[39;00m \u001b[38;5;28;43msuper\u001b[39;49m\u001b[43m(\u001b[49m\u001b[43m)\u001b[49m\u001b[38;5;241;43m.\u001b[39;49m\u001b[43mdrop\u001b[49m\u001b[43m(\u001b[49m\n\u001b[1;32m   5589\u001b[0m \u001b[43m        \u001b[49m\u001b[43mlabels\u001b[49m\u001b[38;5;241;43m=\u001b[39;49m\u001b[43mlabels\u001b[49m\u001b[43m,\u001b[49m\n\u001b[1;32m   5590\u001b[0m \u001b[43m        \u001b[49m\u001b[43maxis\u001b[49m\u001b[38;5;241;43m=\u001b[39;49m\u001b[43maxis\u001b[49m\u001b[43m,\u001b[49m\n\u001b[1;32m   5591\u001b[0m \u001b[43m        \u001b[49m\u001b[43mindex\u001b[49m\u001b[38;5;241;43m=\u001b[39;49m\u001b[43mindex\u001b[49m\u001b[43m,\u001b[49m\n\u001b[1;32m   5592\u001b[0m \u001b[43m        \u001b[49m\u001b[43mcolumns\u001b[49m\u001b[38;5;241;43m=\u001b[39;49m\u001b[43mcolumns\u001b[49m\u001b[43m,\u001b[49m\n\u001b[1;32m   5593\u001b[0m \u001b[43m        \u001b[49m\u001b[43mlevel\u001b[49m\u001b[38;5;241;43m=\u001b[39;49m\u001b[43mlevel\u001b[49m\u001b[43m,\u001b[49m\n\u001b[1;32m   5594\u001b[0m \u001b[43m        \u001b[49m\u001b[43minplace\u001b[49m\u001b[38;5;241;43m=\u001b[39;49m\u001b[43minplace\u001b[49m\u001b[43m,\u001b[49m\n\u001b[1;32m   5595\u001b[0m \u001b[43m        \u001b[49m\u001b[43merrors\u001b[49m\u001b[38;5;241;43m=\u001b[39;49m\u001b[43merrors\u001b[49m\u001b[43m,\u001b[49m\n\u001b[1;32m   5596\u001b[0m \u001b[43m    \u001b[49m\u001b[43m)\u001b[49m\n",
      "File \u001b[0;32m~/Library/Python/3.9/lib/python/site-packages/pandas/core/generic.py:4807\u001b[0m, in \u001b[0;36mNDFrame.drop\u001b[0;34m(self, labels, axis, index, columns, level, inplace, errors)\u001b[0m\n\u001b[1;32m   4805\u001b[0m \u001b[38;5;28;01mfor\u001b[39;00m axis, labels \u001b[38;5;129;01min\u001b[39;00m axes\u001b[38;5;241m.\u001b[39mitems():\n\u001b[1;32m   4806\u001b[0m     \u001b[38;5;28;01mif\u001b[39;00m labels \u001b[38;5;129;01mis\u001b[39;00m \u001b[38;5;129;01mnot\u001b[39;00m \u001b[38;5;28;01mNone\u001b[39;00m:\n\u001b[0;32m-> 4807\u001b[0m         obj \u001b[38;5;241m=\u001b[39m \u001b[43mobj\u001b[49m\u001b[38;5;241;43m.\u001b[39;49m\u001b[43m_drop_axis\u001b[49m\u001b[43m(\u001b[49m\u001b[43mlabels\u001b[49m\u001b[43m,\u001b[49m\u001b[43m \u001b[49m\u001b[43maxis\u001b[49m\u001b[43m,\u001b[49m\u001b[43m \u001b[49m\u001b[43mlevel\u001b[49m\u001b[38;5;241;43m=\u001b[39;49m\u001b[43mlevel\u001b[49m\u001b[43m,\u001b[49m\u001b[43m \u001b[49m\u001b[43merrors\u001b[49m\u001b[38;5;241;43m=\u001b[39;49m\u001b[43merrors\u001b[49m\u001b[43m)\u001b[49m\n\u001b[1;32m   4809\u001b[0m \u001b[38;5;28;01mif\u001b[39;00m inplace:\n\u001b[1;32m   4810\u001b[0m     \u001b[38;5;28mself\u001b[39m\u001b[38;5;241m.\u001b[39m_update_inplace(obj)\n",
      "File \u001b[0;32m~/Library/Python/3.9/lib/python/site-packages/pandas/core/generic.py:4849\u001b[0m, in \u001b[0;36mNDFrame._drop_axis\u001b[0;34m(self, labels, axis, level, errors, only_slice)\u001b[0m\n\u001b[1;32m   4847\u001b[0m         new_axis \u001b[38;5;241m=\u001b[39m axis\u001b[38;5;241m.\u001b[39mdrop(labels, level\u001b[38;5;241m=\u001b[39mlevel, errors\u001b[38;5;241m=\u001b[39merrors)\n\u001b[1;32m   4848\u001b[0m     \u001b[38;5;28;01melse\u001b[39;00m:\n\u001b[0;32m-> 4849\u001b[0m         new_axis \u001b[38;5;241m=\u001b[39m \u001b[43maxis\u001b[49m\u001b[38;5;241;43m.\u001b[39;49m\u001b[43mdrop\u001b[49m\u001b[43m(\u001b[49m\u001b[43mlabels\u001b[49m\u001b[43m,\u001b[49m\u001b[43m \u001b[49m\u001b[43merrors\u001b[49m\u001b[38;5;241;43m=\u001b[39;49m\u001b[43merrors\u001b[49m\u001b[43m)\u001b[49m\n\u001b[1;32m   4850\u001b[0m     indexer \u001b[38;5;241m=\u001b[39m axis\u001b[38;5;241m.\u001b[39mget_indexer(new_axis)\n\u001b[1;32m   4852\u001b[0m \u001b[38;5;66;03m# Case for non-unique axis\u001b[39;00m\n\u001b[1;32m   4853\u001b[0m \u001b[38;5;28;01melse\u001b[39;00m:\n",
      "File \u001b[0;32m~/Library/Python/3.9/lib/python/site-packages/pandas/core/indexes/base.py:7098\u001b[0m, in \u001b[0;36mIndex.drop\u001b[0;34m(self, labels, errors)\u001b[0m\n\u001b[1;32m   7096\u001b[0m \u001b[38;5;28;01mif\u001b[39;00m mask\u001b[38;5;241m.\u001b[39many():\n\u001b[1;32m   7097\u001b[0m     \u001b[38;5;28;01mif\u001b[39;00m errors \u001b[38;5;241m!=\u001b[39m \u001b[38;5;124m\"\u001b[39m\u001b[38;5;124mignore\u001b[39m\u001b[38;5;124m\"\u001b[39m:\n\u001b[0;32m-> 7098\u001b[0m         \u001b[38;5;28;01mraise\u001b[39;00m \u001b[38;5;167;01mKeyError\u001b[39;00m(\u001b[38;5;124mf\u001b[39m\u001b[38;5;124m\"\u001b[39m\u001b[38;5;132;01m{\u001b[39;00mlabels[mask]\u001b[38;5;241m.\u001b[39mtolist()\u001b[38;5;132;01m}\u001b[39;00m\u001b[38;5;124m not found in axis\u001b[39m\u001b[38;5;124m\"\u001b[39m)\n\u001b[1;32m   7099\u001b[0m     indexer \u001b[38;5;241m=\u001b[39m indexer[\u001b[38;5;241m~\u001b[39mmask]\n\u001b[1;32m   7100\u001b[0m \u001b[38;5;28;01mreturn\u001b[39;00m \u001b[38;5;28mself\u001b[39m\u001b[38;5;241m.\u001b[39mdelete(indexer)\n",
      "\u001b[0;31mKeyError\u001b[0m: \"['company_logo'] not found in axis\""
     ]
    }
   ],
   "source": [
    "#  5. Istalgan ustunni tashlab yuboring\n",
    "df.drop(['company_logo'], axis=1, inplace=True)"
   ]
  },
  {
   "cell_type": "code",
   "execution_count": 20,
   "id": "20d9fb3f",
   "metadata": {},
   "outputs": [],
   "source": [
    "# 6. Qatorlar bo’yicha to’ldiring\n"
   ]
  },
  {
   "cell_type": "code",
   "execution_count": 21,
   "id": "0088f35e",
   "metadata": {},
   "outputs": [
    {
     "data": {
      "text/plain": [
       "job_id                    2\n",
       "job_title                 6\n",
       "salary_usd                0\n",
       "company_location          0\n",
       "company_size              5\n",
       "remote_ratio              0\n",
       "required_skills           2\n",
       "education_required        1\n",
       "years_experience          4\n",
       "posting_date              0\n",
       "job_description_length    8\n",
       "benefits_score            3\n",
       "dtype: int64"
      ]
     },
     "execution_count": 21,
     "metadata": {},
     "output_type": "execute_result"
    }
   ],
   "source": [
    "df.isnull().sum()\n"
   ]
  },
  {
   "cell_type": "code",
   "execution_count": null,
   "id": "2807eef0",
   "metadata": {},
   "outputs": [],
   "source": [
    "print(2+2)"
   ]
  },
  {
   "cell_type": "code",
   "execution_count": null,
   "id": "af2d7df7",
   "metadata": {},
   "outputs": [],
   "source": []
  }
 ],
 "metadata": {
  "kernelspec": {
   "display_name": "Python 3",
   "language": "python",
   "name": "python3"
  },
  "language_info": {
   "codemirror_mode": {
    "name": "ipython",
    "version": 3
   },
   "file_extension": ".py",
   "mimetype": "text/x-python",
   "name": "python",
   "nbconvert_exporter": "python",
   "pygments_lexer": "ipython3",
   "version": "3.9.6"
  }
 },
 "nbformat": 4,
 "nbformat_minor": 5
}
