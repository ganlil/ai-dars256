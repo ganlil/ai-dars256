{
 "cells": [
  {
   "cell_type": "markdown",
   "id": "2057fced",
   "metadata": {},
   "source": [
    "# data_Preprocessing"
   ]
  },
  {
   "cell_type": "code",
   "execution_count": 18,
   "id": "6cb44870",
   "metadata": {},
   "outputs": [],
   "source": [
    "import pandas as pd"
   ]
  },
  {
   "cell_type": "code",
   "execution_count": 65,
   "id": "1808db4f",
   "metadata": {},
   "outputs": [],
   "source": [
    "df=pd.read_csv(\"ai_job_dataset.csv\")"
   ]
  },
  {
   "cell_type": "code",
   "execution_count": 66,
   "id": "e3ed82e2",
   "metadata": {},
   "outputs": [
    {
     "data": {
      "text/html": [
       "<div>\n",
       "<style scoped>\n",
       "    .dataframe tbody tr th:only-of-type {\n",
       "        vertical-align: middle;\n",
       "    }\n",
       "\n",
       "    .dataframe tbody tr th {\n",
       "        vertical-align: top;\n",
       "    }\n",
       "\n",
       "    .dataframe thead th {\n",
       "        text-align: right;\n",
       "    }\n",
       "</style>\n",
       "<table border=\"1\" class=\"dataframe\">\n",
       "  <thead>\n",
       "    <tr style=\"text-align: right;\">\n",
       "      <th></th>\n",
       "      <th>job_id</th>\n",
       "      <th>job_title</th>\n",
       "      <th>salary_usd</th>\n",
       "      <th>company_location</th>\n",
       "      <th>company_size</th>\n",
       "      <th>remote_ratio</th>\n",
       "      <th>required_skills</th>\n",
       "      <th>education_required</th>\n",
       "      <th>years_experience</th>\n",
       "      <th>posting_date</th>\n",
       "      <th>job_description_length</th>\n",
       "      <th>benefits_score</th>\n",
       "    </tr>\n",
       "  </thead>\n",
       "  <tbody>\n",
       "    <tr>\n",
       "      <th>0</th>\n",
       "      <td>AI00001</td>\n",
       "      <td>AI Research Scientist</td>\n",
       "      <td>90376.0</td>\n",
       "      <td>China</td>\n",
       "      <td>M</td>\n",
       "      <td>50.0</td>\n",
       "      <td>Tableau, PyTorch, Kubernetes, Linux, NLP</td>\n",
       "      <td>Bachelor</td>\n",
       "      <td>9.0</td>\n",
       "      <td>2024/10/18</td>\n",
       "      <td>1076.0</td>\n",
       "      <td>5.9</td>\n",
       "    </tr>\n",
       "    <tr>\n",
       "      <th>1</th>\n",
       "      <td>AI00002</td>\n",
       "      <td>AI Software Engineer</td>\n",
       "      <td>61895.0</td>\n",
       "      <td>Canada</td>\n",
       "      <td>M</td>\n",
       "      <td>100.0</td>\n",
       "      <td>Deep Learning, AWS, Mathematics, Python, Docker</td>\n",
       "      <td>Master</td>\n",
       "      <td>1.0</td>\n",
       "      <td>2024/11/20</td>\n",
       "      <td>1268.0</td>\n",
       "      <td>5.2</td>\n",
       "    </tr>\n",
       "    <tr>\n",
       "      <th>2</th>\n",
       "      <td>AI00003</td>\n",
       "      <td>NaN</td>\n",
       "      <td>152626.0</td>\n",
       "      <td>Switzerland</td>\n",
       "      <td>L</td>\n",
       "      <td>0.0</td>\n",
       "      <td>Kubernetes, Deep Learning, Java, Hadoop, NLP</td>\n",
       "      <td>Associate</td>\n",
       "      <td>2.0</td>\n",
       "      <td>2025/03/18</td>\n",
       "      <td>1974.0</td>\n",
       "      <td>9.4</td>\n",
       "    </tr>\n",
       "    <tr>\n",
       "      <th>3</th>\n",
       "      <td>AI00004</td>\n",
       "      <td>NaN</td>\n",
       "      <td>80215.0</td>\n",
       "      <td>India</td>\n",
       "      <td>M</td>\n",
       "      <td>50.0</td>\n",
       "      <td>Scala, SQL, Linux, Python</td>\n",
       "      <td>PhD</td>\n",
       "      <td>7.0</td>\n",
       "      <td>2024/12/23</td>\n",
       "      <td>1345.0</td>\n",
       "      <td>8.6</td>\n",
       "    </tr>\n",
       "    <tr>\n",
       "      <th>4</th>\n",
       "      <td>AI00005</td>\n",
       "      <td>AI Consultant</td>\n",
       "      <td>54624.0</td>\n",
       "      <td>France</td>\n",
       "      <td>S</td>\n",
       "      <td>100.0</td>\n",
       "      <td>MLOps, Java, Tableau, Python</td>\n",
       "      <td>Master</td>\n",
       "      <td>0.0</td>\n",
       "      <td>2025/04/15</td>\n",
       "      <td>1989.0</td>\n",
       "      <td>6.6</td>\n",
       "    </tr>\n",
       "  </tbody>\n",
       "</table>\n",
       "</div>"
      ],
      "text/plain": [
       "    job_id              job_title  salary_usd company_location company_size  \\\n",
       "0  AI00001  AI Research Scientist     90376.0            China            M   \n",
       "1  AI00002   AI Software Engineer     61895.0           Canada            M   \n",
       "2  AI00003                    NaN    152626.0      Switzerland            L   \n",
       "3  AI00004                    NaN     80215.0            India            M   \n",
       "4  AI00005          AI Consultant     54624.0           France            S   \n",
       "\n",
       "   remote_ratio                                  required_skills  \\\n",
       "0          50.0         Tableau, PyTorch, Kubernetes, Linux, NLP   \n",
       "1         100.0  Deep Learning, AWS, Mathematics, Python, Docker   \n",
       "2           0.0     Kubernetes, Deep Learning, Java, Hadoop, NLP   \n",
       "3          50.0                        Scala, SQL, Linux, Python   \n",
       "4         100.0                     MLOps, Java, Tableau, Python   \n",
       "\n",
       "  education_required  years_experience posting_date  job_description_length  \\\n",
       "0           Bachelor               9.0   2024/10/18                  1076.0   \n",
       "1             Master               1.0   2024/11/20                  1268.0   \n",
       "2          Associate               2.0   2025/03/18                  1974.0   \n",
       "3                PhD               7.0   2024/12/23                  1345.0   \n",
       "4             Master               0.0   2025/04/15                  1989.0   \n",
       "\n",
       "   benefits_score  \n",
       "0             5.9  \n",
       "1             5.2  \n",
       "2             9.4  \n",
       "3             8.6  \n",
       "4             6.6  "
      ]
     },
     "execution_count": 66,
     "metadata": {},
     "output_type": "execute_result"
    }
   ],
   "source": [
    "df.head()"
   ]
  },
  {
   "cell_type": "code",
   "execution_count": 67,
   "id": "2903d75c",
   "metadata": {},
   "outputs": [
    {
     "name": "stdout",
     "output_type": "stream",
     "text": [
      "<class 'pandas.core.frame.DataFrame'>\n",
      "RangeIndex: 39 entries, 0 to 38\n",
      "Data columns (total 12 columns):\n",
      " #   Column                  Non-Null Count  Dtype  \n",
      "---  ------                  --------------  -----  \n",
      " 0   job_id                  37 non-null     object \n",
      " 1   job_title               33 non-null     object \n",
      " 2   salary_usd              27 non-null     float64\n",
      " 3   company_location        39 non-null     object \n",
      " 4   company_size            34 non-null     object \n",
      " 5   remote_ratio            35 non-null     float64\n",
      " 6   required_skills         37 non-null     object \n",
      " 7   education_required      38 non-null     object \n",
      " 8   years_experience        35 non-null     float64\n",
      " 9   posting_date            34 non-null     object \n",
      " 10  job_description_length  31 non-null     float64\n",
      " 11  benefits_score          36 non-null     float64\n",
      "dtypes: float64(5), object(7)\n",
      "memory usage: 3.8+ KB\n"
     ]
    }
   ],
   "source": [
    "df.info()"
   ]
  },
  {
   "cell_type": "code",
   "execution_count": 68,
   "id": "e97cf8de",
   "metadata": {},
   "outputs": [
    {
     "data": {
      "text/plain": [
       "job_id                     2\n",
       "job_title                  6\n",
       "salary_usd                12\n",
       "company_location           0\n",
       "company_size               5\n",
       "remote_ratio               4\n",
       "required_skills            2\n",
       "education_required         1\n",
       "years_experience           4\n",
       "posting_date               5\n",
       "job_description_length     8\n",
       "benefits_score             3\n",
       "dtype: int64"
      ]
     },
     "execution_count": 68,
     "metadata": {},
     "output_type": "execute_result"
    }
   ],
   "source": [
    "df.isnull().sum()"
   ]
  },
  {
   "cell_type": "code",
   "execution_count": 69,
   "id": "eec5fd78",
   "metadata": {},
   "outputs": [
    {
     "data": {
      "text/plain": [
       "0      90376.0\n",
       "1      61895.0\n",
       "2     152626.0\n",
       "3      80215.0\n",
       "4      54624.0\n",
       "5     123574.0\n",
       "6      79670.0\n",
       "7      70640.0\n",
       "8          NaN\n",
       "9          NaN\n",
       "10         NaN\n",
       "11    115047.0\n",
       "12    124355.0\n",
       "13     68760.0\n",
       "14    150122.0\n",
       "15     78846.0\n",
       "16     59823.0\n",
       "17    181139.0\n",
       "18    155300.0\n",
       "19         NaN\n",
       "20         NaN\n",
       "21         NaN\n",
       "22         NaN\n",
       "23         NaN\n",
       "24         NaN\n",
       "25         NaN\n",
       "26         NaN\n",
       "27     52997.0\n",
       "28     42819.0\n",
       "29     82083.0\n",
       "30     67488.0\n",
       "31         NaN\n",
       "32    146852.0\n",
       "33    178183.0\n",
       "34    150864.0\n",
       "35    126942.0\n",
       "36     53752.0\n",
       "37    111381.0\n",
       "38     41430.0\n",
       "Name: salary_usd, dtype: float64"
      ]
     },
     "execution_count": 69,
     "metadata": {},
     "output_type": "execute_result"
    }
   ],
   "source": [
    "df['salary_usd']"
   ]
  },
  {
   "cell_type": "code",
   "execution_count": 62,
   "id": "ffe0d909",
   "metadata": {},
   "outputs": [],
   "source": [
    "df['salary_usd'].fillna(df['salary_usd'].mean(),inplace=True)"
   ]
  },
  {
   "cell_type": "code",
   "execution_count": 63,
   "id": "5a3a66f9",
   "metadata": {},
   "outputs": [
    {
     "data": {
      "text/plain": [
       "0      90376.000000\n",
       "1      61895.000000\n",
       "2     152626.000000\n",
       "3      80215.000000\n",
       "4      54624.000000\n",
       "5     123574.000000\n",
       "6      79670.000000\n",
       "7      70640.000000\n",
       "8     100066.777778\n",
       "9     100066.777778\n",
       "10    100066.777778\n",
       "11    115047.000000\n",
       "12    124355.000000\n",
       "13     68760.000000\n",
       "14    150122.000000\n",
       "15     78846.000000\n",
       "16     59823.000000\n",
       "17    181139.000000\n",
       "18    155300.000000\n",
       "19    100066.777778\n",
       "20    100066.777778\n",
       "21    100066.777778\n",
       "22    100066.777778\n",
       "23    100066.777778\n",
       "24    100066.777778\n",
       "25    100066.777778\n",
       "26    100066.777778\n",
       "27     52997.000000\n",
       "28     42819.000000\n",
       "29     82083.000000\n",
       "30     67488.000000\n",
       "31    100066.777778\n",
       "32    146852.000000\n",
       "33    178183.000000\n",
       "34    150864.000000\n",
       "35    126942.000000\n",
       "36     53752.000000\n",
       "37    111381.000000\n",
       "38     41430.000000\n",
       "Name: salary_usd, dtype: float64"
      ]
     },
     "execution_count": 63,
     "metadata": {},
     "output_type": "execute_result"
    }
   ],
   "source": [
    "df['salary_usd']"
   ]
  },
  {
   "cell_type": "code",
   "execution_count": 79,
   "id": "4a3df05d",
   "metadata": {},
   "outputs": [],
   "source": [
    "df['posting_date'].fillna(df['posting_date'].mode()[0],inplace=True)"
   ]
  },
  {
   "cell_type": "code",
   "execution_count": 80,
   "id": "ec93d82f",
   "metadata": {},
   "outputs": [
    {
     "data": {
      "text/plain": [
       "0     2024/10/18\n",
       "1     2024/11/20\n",
       "2     2025/03/18\n",
       "3     2024/12/23\n",
       "4     2025/04/15\n",
       "5     2024/08/31\n",
       "6     2024/12/29\n",
       "7     2024/06/07\n",
       "8     2024/01/31\n",
       "9     2024/10/20\n",
       "10    2025/01/29\n",
       "11    2024/07/16\n",
       "12    2024/12/29\n",
       "13    2024/01/31\n",
       "14    2024/10/02\n",
       "15    2024/09/28\n",
       "16    2024/01/31\n",
       "17    2024/04/24\n",
       "18    2024/04/30\n",
       "19    2024/01/31\n",
       "20    2024/06/21\n",
       "21    2024/04/23\n",
       "22    2024/01/31\n",
       "23    2024/06/07\n",
       "24    2024/10/27\n",
       "25    2024/08/01\n",
       "26    2024/11/18\n",
       "27    2025/01/10\n",
       "28    2024/10/08\n",
       "29    2024/01/18\n",
       "30    2024/05/16\n",
       "31    2024/01/31\n",
       "32    2024/08/28\n",
       "33    2024/03/01\n",
       "34    2024/10/26\n",
       "35    2024/01/31\n",
       "36    2024/10/17\n",
       "37    2024/01/14\n",
       "38    2024/06/15\n",
       "Name: posting_date, dtype: object"
      ]
     },
     "execution_count": 80,
     "metadata": {},
     "output_type": "execute_result"
    }
   ],
   "source": [
    "df['posting_date']"
   ]
  },
  {
   "cell_type": "code",
   "execution_count": null,
   "id": "187e9c69",
   "metadata": {},
   "outputs": [],
   "source": [
    "job_description_length"
   ]
  },
  {
   "cell_type": "code",
   "execution_count": 82,
   "id": "560162a9",
   "metadata": {},
   "outputs": [
    {
     "name": "stderr",
     "output_type": "stream",
     "text": [
      "/var/folders/p7/yhy3_xrd6cg9c5gjkkbmgbj80000gr/T/ipykernel_75004/3140050857.py:1: FutureWarning: A value is trying to be set on a copy of a DataFrame or Series through chained assignment using an inplace method.\n",
      "The behavior will change in pandas 3.0. This inplace method will never work because the intermediate object on which we are setting values always behaves as a copy.\n",
      "\n",
      "For example, when doing 'df[col].method(value, inplace=True)', try using 'df.method({col: value}, inplace=True)' or df[col] = df[col].method(value) instead, to perform the operation inplace on the original object.\n",
      "\n",
      "\n",
      "  df['job_description_length'].fillna(df['job_description_length'].median(),inplace=True)\n"
     ]
    }
   ],
   "source": [
    "df['job_description_length'].fillna(df['job_description_length'].median(),inplace=True)"
   ]
  },
  {
   "cell_type": "code",
   "execution_count": 83,
   "id": "e99b798c",
   "metadata": {},
   "outputs": [
    {
     "data": {
      "text/plain": [
       "job_id                    2\n",
       "job_title                 6\n",
       "salary_usd                0\n",
       "company_location          0\n",
       "company_size              5\n",
       "remote_ratio              0\n",
       "required_skills           2\n",
       "education_required        1\n",
       "years_experience          0\n",
       "posting_date              0\n",
       "job_description_length    0\n",
       "benefits_score            3\n",
       "dtype: int64"
      ]
     },
     "execution_count": 83,
     "metadata": {},
     "output_type": "execute_result"
    }
   ],
   "source": [
    "df.isnull().sum()"
   ]
  },
  {
   "cell_type": "code",
   "execution_count": 84,
   "id": "9eb807c3",
   "metadata": {},
   "outputs": [
    {
     "name": "stdout",
     "output_type": "stream",
     "text": [
      "<class 'pandas.core.frame.DataFrame'>\n",
      "RangeIndex: 39 entries, 0 to 38\n",
      "Data columns (total 12 columns):\n",
      " #   Column                  Non-Null Count  Dtype  \n",
      "---  ------                  --------------  -----  \n",
      " 0   job_id                  37 non-null     object \n",
      " 1   job_title               33 non-null     object \n",
      " 2   salary_usd              39 non-null     float64\n",
      " 3   company_location        39 non-null     object \n",
      " 4   company_size            34 non-null     object \n",
      " 5   remote_ratio            39 non-null     float64\n",
      " 6   required_skills         37 non-null     object \n",
      " 7   education_required      38 non-null     object \n",
      " 8   years_experience        39 non-null     float64\n",
      " 9   posting_date            39 non-null     object \n",
      " 10  job_description_length  39 non-null     float64\n",
      " 11  benefits_score          36 non-null     float64\n",
      "dtypes: float64(5), object(7)\n",
      "memory usage: 3.8+ KB\n"
     ]
    }
   ],
   "source": [
    "df.info()"
   ]
  },
  {
   "cell_type": "code",
   "execution_count": 85,
   "id": "5437a6a7",
   "metadata": {},
   "outputs": [],
   "source": [
    "df.dropna(axis=1, inplace=True)"
   ]
  },
  {
   "cell_type": "code",
   "execution_count": 86,
   "id": "dbe1b28e",
   "metadata": {},
   "outputs": [
    {
     "name": "stdout",
     "output_type": "stream",
     "text": [
      "<class 'pandas.core.frame.DataFrame'>\n",
      "RangeIndex: 39 entries, 0 to 38\n",
      "Data columns (total 6 columns):\n",
      " #   Column                  Non-Null Count  Dtype  \n",
      "---  ------                  --------------  -----  \n",
      " 0   salary_usd              39 non-null     float64\n",
      " 1   company_location        39 non-null     object \n",
      " 2   remote_ratio            39 non-null     float64\n",
      " 3   years_experience        39 non-null     float64\n",
      " 4   posting_date            39 non-null     object \n",
      " 5   job_description_length  39 non-null     float64\n",
      "dtypes: float64(4), object(2)\n",
      "memory usage: 2.0+ KB\n"
     ]
    }
   ],
   "source": [
    "df.info()"
   ]
  },
  {
   "cell_type": "code",
   "execution_count": 87,
   "id": "f8f77c8e",
   "metadata": {},
   "outputs": [
    {
     "data": {
      "text/html": [
       "<div>\n",
       "<style scoped>\n",
       "    .dataframe tbody tr th:only-of-type {\n",
       "        vertical-align: middle;\n",
       "    }\n",
       "\n",
       "    .dataframe tbody tr th {\n",
       "        vertical-align: top;\n",
       "    }\n",
       "\n",
       "    .dataframe thead th {\n",
       "        text-align: right;\n",
       "    }\n",
       "</style>\n",
       "<table border=\"1\" class=\"dataframe\">\n",
       "  <thead>\n",
       "    <tr style=\"text-align: right;\">\n",
       "      <th></th>\n",
       "      <th>salary_usd</th>\n",
       "      <th>company_location</th>\n",
       "      <th>remote_ratio</th>\n",
       "      <th>years_experience</th>\n",
       "      <th>posting_date</th>\n",
       "      <th>job_description_length</th>\n",
       "    </tr>\n",
       "  </thead>\n",
       "  <tbody>\n",
       "    <tr>\n",
       "      <th>0</th>\n",
       "      <td>90376.0</td>\n",
       "      <td>China</td>\n",
       "      <td>50.0</td>\n",
       "      <td>9.0</td>\n",
       "      <td>2024/10/18</td>\n",
       "      <td>1076.0</td>\n",
       "    </tr>\n",
       "    <tr>\n",
       "      <th>1</th>\n",
       "      <td>61895.0</td>\n",
       "      <td>Canada</td>\n",
       "      <td>100.0</td>\n",
       "      <td>1.0</td>\n",
       "      <td>2024/11/20</td>\n",
       "      <td>1268.0</td>\n",
       "    </tr>\n",
       "    <tr>\n",
       "      <th>2</th>\n",
       "      <td>152626.0</td>\n",
       "      <td>Switzerland</td>\n",
       "      <td>0.0</td>\n",
       "      <td>2.0</td>\n",
       "      <td>2025/03/18</td>\n",
       "      <td>1974.0</td>\n",
       "    </tr>\n",
       "    <tr>\n",
       "      <th>3</th>\n",
       "      <td>80215.0</td>\n",
       "      <td>India</td>\n",
       "      <td>50.0</td>\n",
       "      <td>7.0</td>\n",
       "      <td>2024/12/23</td>\n",
       "      <td>1345.0</td>\n",
       "    </tr>\n",
       "    <tr>\n",
       "      <th>4</th>\n",
       "      <td>54624.0</td>\n",
       "      <td>France</td>\n",
       "      <td>100.0</td>\n",
       "      <td>0.0</td>\n",
       "      <td>2025/04/15</td>\n",
       "      <td>1989.0</td>\n",
       "    </tr>\n",
       "  </tbody>\n",
       "</table>\n",
       "</div>"
      ],
      "text/plain": [
       "   salary_usd company_location  remote_ratio  years_experience posting_date  \\\n",
       "0     90376.0            China          50.0               9.0   2024/10/18   \n",
       "1     61895.0           Canada         100.0               1.0   2024/11/20   \n",
       "2    152626.0      Switzerland           0.0               2.0   2025/03/18   \n",
       "3     80215.0            India          50.0               7.0   2024/12/23   \n",
       "4     54624.0           France         100.0               0.0   2025/04/15   \n",
       "\n",
       "   job_description_length  \n",
       "0                  1076.0  \n",
       "1                  1268.0  \n",
       "2                  1974.0  \n",
       "3                  1345.0  \n",
       "4                  1989.0  "
      ]
     },
     "execution_count": 87,
     "metadata": {},
     "output_type": "execute_result"
    }
   ],
   "source": [
    "df.head()"
   ]
  },
  {
   "cell_type": "code",
   "execution_count": 88,
   "id": "6aa0118e",
   "metadata": {},
   "outputs": [
    {
     "data": {
      "text/plain": [
       "salary_usd                0\n",
       "company_location          0\n",
       "remote_ratio              0\n",
       "years_experience          0\n",
       "posting_date              0\n",
       "job_description_length    0\n",
       "dtype: int64"
      ]
     },
     "execution_count": 88,
     "metadata": {},
     "output_type": "execute_result"
    }
   ],
   "source": [
    "df.isnull().sum()"
   ]
  },
  {
   "cell_type": "code",
   "execution_count": null,
   "id": "68cf9903",
   "metadata": {},
   "outputs": [],
   "source": []
  }
 ],
 "metadata": {
  "kernelspec": {
   "display_name": "Python 3",
   "language": "python",
   "name": "python3"
  },
  "language_info": {
   "codemirror_mode": {
    "name": "ipython",
    "version": 3
   },
   "file_extension": ".py",
   "mimetype": "text/x-python",
   "name": "python",
   "nbconvert_exporter": "python",
   "pygments_lexer": "ipython3",
   "version": "3.9.6"
  }
 },
 "nbformat": 4,
 "nbformat_minor": 5
}
